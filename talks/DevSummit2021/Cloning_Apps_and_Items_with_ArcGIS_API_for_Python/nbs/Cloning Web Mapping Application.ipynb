{
 "cells": [
  {
   "cell_type": "markdown",
   "metadata": {},
   "source": [
    "## Import libraries"
   ]
  },
  {
   "cell_type": "code",
   "execution_count": null,
   "metadata": {},
   "outputs": [],
   "source": [
    "from urllib.parse import urlparse\n",
    "from arcgis.mapping import WebMap\n",
    "from arcgis.gis import GIS"
   ]
  },
  {
   "cell_type": "markdown",
   "metadata": {},
   "source": [
    "## Connect to _source_ and _target_ GIS organizations"
   ]
  },
  {
   "cell_type": "code",
   "execution_count": null,
   "metadata": {},
   "outputs": [],
   "source": [
    "source = GIS(profile=\"your_ent_admin_profile\", verify_cert=False)\n",
    "target = GIS(profile=\"cloning_admin\", verify_cert=False)"
   ]
  },
  {
   "cell_type": "code",
   "execution_count": null,
   "metadata": {},
   "outputs": [],
   "source": [
    "print(source)"
   ]
  },
  {
   "cell_type": "code",
   "execution_count": null,
   "metadata": {},
   "outputs": [],
   "source": [
    "print(target)"
   ]
  },
  {
   "cell_type": "markdown",
   "metadata": {},
   "source": [
    "## Search for specific `Web Mapping Application`"
   ]
  },
  {
   "cell_type": "code",
   "execution_count": null,
   "metadata": {},
   "outputs": [],
   "source": [
    "wmas = source.content.search(query=\"Elephants *\", \n",
    "                            item_type=\"Web Mapping Application\",\n",
    "                            max_items=100)\n",
    "wmas"
   ]
  },
  {
   "cell_type": "markdown",
   "metadata": {
    "heading_collapsed": true
   },
   "source": [
    "### Get the `Web Mapping Application` from the resulting list"
   ]
  },
  {
   "cell_type": "code",
   "execution_count": null,
   "metadata": {
    "hidden": true
   },
   "outputs": [],
   "source": [
    "habitat_story = wmas[0]\n",
    "habitat_story"
   ]
  },
  {
   "cell_type": "markdown",
   "metadata": {
    "heading_collapsed": true
   },
   "source": [
    "## Get the `Web Mapping Application` data "
   ]
  },
  {
   "cell_type": "markdown",
   "metadata": {
    "hidden": true
   },
   "source": [
    " * return the list of `keys` available from the resulting definition"
   ]
  },
  {
   "cell_type": "code",
   "execution_count": null,
   "metadata": {
    "hidden": true
   },
   "outputs": [],
   "source": [
    "wma_def = habitat_story.get_data()\n",
    "wma_def"
   ]
  },
  {
   "cell_type": "code",
   "execution_count": null,
   "metadata": {
    "hidden": true
   },
   "outputs": [],
   "source": [
    "list(wma_def.keys())"
   ]
  },
  {
   "cell_type": "markdown",
   "metadata": {
    "heading_collapsed": true,
    "hidden": true
   },
   "source": [
    "### Get the _source_ item used in the application"
   ]
  },
  {
   "cell_type": "code",
   "execution_count": null,
   "metadata": {
    "hidden": true
   },
   "outputs": [],
   "source": [
    "source_item = source.content.get(wma_def['source'])\n",
    "source_item"
   ]
  },
  {
   "cell_type": "markdown",
   "metadata": {
    "hidden": true
   },
   "source": [
    "Now we know this is a `Story Map` application."
   ]
  },
  {
   "cell_type": "markdown",
   "metadata": {
    "heading_collapsed": true,
    "hidden": true
   },
   "source": [
    "### Get the `values` for the application"
   ]
  },
  {
   "cell_type": "code",
   "execution_count": null,
   "metadata": {
    "hidden": true
   },
   "outputs": [],
   "source": [
    "wma_def['values']"
   ]
  },
  {
   "cell_type": "markdown",
   "metadata": {
    "heading_collapsed": true,
    "hidden": true
   },
   "source": [
    "### Get the `Webmap` item used in this `Story Map`"
   ]
  },
  {
   "cell_type": "code",
   "execution_count": null,
   "metadata": {
    "hidden": true
   },
   "outputs": [],
   "source": [
    "storymap_webmap_id = wma_def['values']['webmap']\n",
    "storymap_webmap = source.content.get(storymap_webmap_id)\n",
    "storymap_webmap"
   ]
  },
  {
   "cell_type": "markdown",
   "metadata": {
    "hidden": true
   },
   "source": [
    "##### Helper Function\n",
    "\n",
    "We wrote a function, taking a `Webmap` item and `GIS` object as inputs, to quickly tell us whether a `Webmap` has already been cloned in a particular system represented by our Python API `GIS` object."
   ]
  },
  {
   "cell_type": "code",
   "execution_count": null,
   "metadata": {
    "hidden": true
   },
   "outputs": [],
   "source": [
    "def is_webmap_cloned(src_webmap, target_gis):\n",
    "    target_webmaps = target_gis.content.search(query=\"* AND NOT owner:esri*\",\n",
    "                                               item_type=\"Web Map\",\n",
    "                                               max_items=500)\n",
    "    for tgt_webmap in target_webmaps:\n",
    "        for kw in tgt_webmap.typeKeywords:\n",
    "            if src_webmap.id in kw:\n",
    "                return tgt_webmap\n",
    "                break\n",
    "    return None"
   ]
  },
  {
   "cell_type": "markdown",
   "metadata": {
    "heading_collapsed": true,
    "hidden": true
   },
   "source": [
    "### Determine if `Webmap` has already been cloned"
   ]
  },
  {
   "cell_type": "code",
   "execution_count": null,
   "metadata": {
    "hidden": true
   },
   "outputs": [],
   "source": [
    "cloned_wm = is_webmap_cloned(storymap_webmap, target)\n",
    "\n",
    "if cloned_wm:\n",
    "    print(f\"{storymap_webmap.title} {storymap_webmap.id} cloned in {target.url}\\n\"\n",
    "          f\"...{cloned_wm.title}:{cloned_wm.id}\")\n",
    "else:\n",
    "    print(f\"{storymap_webmap.title} {storymap_webmap.id} NOT cloned in {target.url}\")"
   ]
  },
  {
   "cell_type": "markdown",
   "metadata": {
    "heading_collapsed": true,
    "hidden": true
   },
   "source": [
    "### Print information about any layers in the `Webmap`"
   ]
  },
  {
   "cell_type": "code",
   "execution_count": null,
   "metadata": {
    "hidden": true
   },
   "outputs": [],
   "source": [
    "orig_wm_obj = WebMap(storymap_webmap)\n",
    "for orig_wm_lyr in orig_wm_obj.layers:\n",
    "    print(f\"{orig_wm_lyr['title']}\")\n",
    "    print(f\"{orig_wm_lyr['url']}\")\n",
    "    try:\n",
    "        if source.content.get(orig_wm_lyr['itemId']):\n",
    "            print(f\"{orig_wm_lyr['itemId']}\")\n",
    "    except Exception as e:\n",
    "        pass\n",
    "    print(\"\\n\")"
   ]
  },
  {
   "cell_type": "markdown",
   "metadata": {
    "heading_collapsed": true,
    "hidden": true
   },
   "source": [
    "### Search `Webmap` for any layers that have previously been cloned"
   ]
  },
  {
   "cell_type": "code",
   "execution_count": null,
   "metadata": {
    "hidden": true
   },
   "outputs": [],
   "source": [
    "for layer in orig_wm_obj.layers:\n",
    "    try:\n",
    "        source_item = source.content.get(layer['itemId'])\n",
    "        for flyr_item in target.content.search(query=\"*\", \n",
    "                                               item_type=\"Feature Layer\", \n",
    "                                               max_items=2000):\n",
    "            for kw in flyr_item.typeKeywords:\n",
    "                if source_item.id in kw:\n",
    "                    print(f\"{layer['title']}\\n{'-'*80}\")\n",
    "                    print(f\"...{source_item.title} {source_item.type} cloned in {target.url}\")\n",
    "                    print(f\"{' '*5}---Source: {source_item.id}{' '*4}Target: {flyr_item.id}\")\n",
    "                    print(f\"\\n\")\n",
    "                    break\n",
    "    except Exception as e:\n",
    "        pass"
   ]
  },
  {
   "cell_type": "markdown",
   "metadata": {
    "heading_collapsed": true
   },
   "source": [
    "## Clone the `Webmap` used in the `Web Mapping Application`"
   ]
  },
  {
   "cell_type": "markdown",
   "metadata": {
    "hidden": true
   },
   "source": [
    " * create `wm_mapping` dictionary with _source_ `Webmap.id` as key and _target_ cloned `Webmap.id` as value to subsequently use when cloning the `Web Mapping Application item`"
   ]
  },
  {
   "cell_type": "code",
   "execution_count": null,
   "metadata": {
    "hidden": true
   },
   "outputs": [],
   "source": [
    "cloned_from_storymap = target.content.clone_items(items=[storymap_webmap],\n",
    "                                                 folder=\"Elephant_Habitat\")\n",
    "wm_mapping = {storymap_webmap.id:cloned_from_storymap[0].id}\n",
    "cloned_from_storymap"
   ]
  },
  {
   "cell_type": "markdown",
   "metadata": {
    "heading_collapsed": true,
    "hidden": true
   },
   "source": [
    "### Get the cloned `Webmap` from the resulting list"
   ]
  },
  {
   "cell_type": "code",
   "execution_count": null,
   "metadata": {
    "hidden": true
   },
   "outputs": [],
   "source": [
    "cloned_storymap_wm = cloned_from_storymap[0]\n",
    "cloned_storymap_wm"
   ]
  },
  {
   "cell_type": "markdown",
   "metadata": {
    "heading_collapsed": true,
    "hidden": true
   },
   "source": [
    "### Print information about the layers in the cloned `Webmap`\n",
    " * compare the beginning of the path compenent in the `url` to the organization id value retrieved in the previous step\n",
    " * if we can get an `item` from the `itemId` value, print out the `itemId` value for the new `item` created in the _target_"
   ]
  },
  {
   "cell_type": "code",
   "execution_count": null,
   "metadata": {
    "hidden": true
   },
   "outputs": [],
   "source": [
    "cloned_wm_obj = WebMap(cloned_storymap_wm)\n",
    "for cloned_wm_lyr in cloned_wm_obj.layers:\n",
    "    print(f\"{cloned_wm_lyr['title']}\")\n",
    "    print(f\"{cloned_wm_lyr['url']}\")\n",
    "    try:\n",
    "        if target.content.get(cloned_wm_lyr['itemId']):\n",
    "            print(f\"{cloned_wm_lyr['itemId']}\")\n",
    "    except Exception as e:\n",
    "        pass\n",
    "    print(\"\\n\")"
   ]
  },
  {
   "cell_type": "code",
   "execution_count": null,
   "metadata": {
    "hidden": true
   },
   "outputs": [],
   "source": [
    "cloned_storymap_wm.id"
   ]
  },
  {
   "cell_type": "markdown",
   "metadata": {
    "heading_collapsed": true,
    "hidden": true
   },
   "source": [
    "### Verify the `wm_mapping` parameter contains `itemId` values"
   ]
  },
  {
   "cell_type": "code",
   "execution_count": null,
   "metadata": {
    "hidden": true
   },
   "outputs": [],
   "source": [
    "wm_mapping"
   ]
  },
  {
   "cell_type": "markdown",
   "metadata": {
    "heading_collapsed": true
   },
   "source": [
    "## Clone the _source_ `Web Mapping Application`"
   ]
  },
  {
   "cell_type": "markdown",
   "metadata": {
    "hidden": true
   },
   "source": [
    " * the `wm_mapping` parameter instructs the function to use the _target_ `Webmap` item instead of the _source_ `Webmap`"
   ]
  },
  {
   "cell_type": "code",
   "execution_count": null,
   "metadata": {
    "hidden": true
   },
   "outputs": [],
   "source": [
    "cloned_wma = target.content.clone_items(items=[habitat_story],\n",
    "                                        folder=\"Elephant_Habitat\",\n",
    "                                        item_mapping=wm_mapping)\n",
    "cloned_wma"
   ]
  },
  {
   "cell_type": "markdown",
   "metadata": {
    "heading_collapsed": true,
    "hidden": true
   },
   "source": [
    "### Get the `Story Map` from the resulting list"
   ]
  },
  {
   "cell_type": "code",
   "execution_count": null,
   "metadata": {
    "hidden": true
   },
   "outputs": [],
   "source": [
    "cloned_storymap = cloned_wma[0]\n",
    "cloned_storymap"
   ]
  },
  {
   "cell_type": "markdown",
   "metadata": {
    "heading_collapsed": true,
    "hidden": true
   },
   "source": [
    "### Compare the `Webmap` id value from the _source_ `Story Map` to the _target_ "
   ]
  },
  {
   "cell_type": "code",
   "execution_count": null,
   "metadata": {
    "hidden": true
   },
   "outputs": [],
   "source": [
    "cloned_sm_def = cloned_storymap.get_data()\n",
    "cloned_sm_def['values']['webmap']"
   ]
  },
  {
   "cell_type": "code",
   "execution_count": null,
   "metadata": {
    "hidden": true
   },
   "outputs": [],
   "source": [
    "target.content.get(cloned_sm_def['values']['webmap'])"
   ]
  }
 ],
 "metadata": {
  "kernelspec": {
   "display_name": "Python 3",
   "language": "python",
   "name": "python3"
  },
  "language_info": {
   "codemirror_mode": {
    "name": "ipython",
    "version": 3
   },
   "file_extension": ".py",
   "mimetype": "text/x-python",
   "name": "python",
   "nbconvert_exporter": "python",
   "pygments_lexer": "ipython3",
   "version": "3.6.8"
  }
 },
 "nbformat": 4,
 "nbformat_minor": 4
}
