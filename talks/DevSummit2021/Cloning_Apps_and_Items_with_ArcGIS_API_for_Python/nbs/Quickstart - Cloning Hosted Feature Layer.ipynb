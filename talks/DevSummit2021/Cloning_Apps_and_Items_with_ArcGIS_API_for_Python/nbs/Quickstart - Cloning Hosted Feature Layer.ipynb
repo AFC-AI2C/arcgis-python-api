{
 "cells": [
  {
   "cell_type": "markdown",
   "metadata": {},
   "source": [
    "## Import libraries"
   ]
  },
  {
   "cell_type": "code",
   "execution_count": 2,
   "metadata": {
    "scrolled": false
   },
   "outputs": [],
   "source": [
    "from arcgis.gis import GIS"
   ]
  },
  {
   "cell_type": "markdown",
   "metadata": {},
   "source": [
    "## Connect to _source_ and _target_ GIS organizations"
   ]
  },
  {
   "cell_type": "code",
   "execution_count": 3,
   "metadata": {
    "scrolled": false
   },
   "outputs": [],
   "source": [
    "source = GIS(profile=\"clone-starter\", verify_cert=False)\n",
    "target = GIS(profile=\"clone-terminator\", verify_cert=False)"
   ]
  },
  {
   "cell_type": "code",
   "execution_count": null,
   "metadata": {
    "scrolled": false
   },
   "outputs": [],
   "source": [
    "print(source)"
   ]
  },
  {
   "cell_type": "code",
   "execution_count": 5,
   "metadata": {
    "scrolled": false
   },
   "outputs": [
    {
     "data": {
      "text/plain": [
       "'clonerator'"
      ]
     },
     "execution_count": 5,
     "metadata": {},
     "output_type": "execute_result"
    }
   ],
   "source": [
    "source.users.me.username"
   ]
  },
  {
   "cell_type": "code",
   "execution_count": null,
   "metadata": {
    "scrolled": false
   },
   "outputs": [],
   "source": [
    "print(target)"
   ]
  },
  {
   "cell_type": "code",
   "execution_count": 7,
   "metadata": {
    "scrolled": false
   },
   "outputs": [
    {
     "data": {
      "text/plain": [
       "'clonebeliever'"
      ]
     },
     "execution_count": 7,
     "metadata": {},
     "output_type": "execute_result"
    }
   ],
   "source": [
    "target.users.me.username"
   ]
  },
  {
   "cell_type": "markdown",
   "metadata": {},
   "source": [
    "## Search for a _Feature Layer_ to clone"
   ]
  },
  {
   "cell_type": "code",
   "execution_count": 8,
   "metadata": {
    "scrolled": false
   },
   "outputs": [
    {
     "data": {
      "text/plain": [
       "[<Item title:\"community_college_district_2\" type:Feature Layer Collection owner:clonerator>]"
      ]
     },
     "execution_count": 8,
     "metadata": {},
     "output_type": "execute_result"
    }
   ],
   "source": [
    "comm_coll_items = source.content.search(query=\"community_college_district_2\", \n",
    "                                        item_type=\"Feature Layer\")\n",
    "comm_coll_items"
   ]
  },
  {
   "cell_type": "code",
   "execution_count": 9,
   "metadata": {
    "scrolled": false
   },
   "outputs": [
    {
     "data": {
      "text/html": [
       "<div class=\"item_container\" style=\"height: auto; overflow: hidden; border: 1px solid #cfcfcf; border-radius: 2px; background: #f6fafa; line-height: 1.21429em; padding: 10px;\">\n",
       "                    <div class=\"item_left\" style=\"width: 210px; float: left;\">\n",
       "                       <a href='https://nbs1.dev.geocloud.com/portal/home/item.html?id=38a23837eeac4c81b4f4283967161c01' target='_blank'>\n",
       "                        <img src='data:image/png;base64,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' width='200' height='133' class=\"itemThumbnail\">\n",
       "                       </a>\n",
       "                    </div>\n",
       "\n",
       "                    <div class=\"item_right\"     style=\"float: none; width: auto; overflow: hidden;\">\n",
       "                        <a href='https://nbs1.dev.geocloud.com/portal/home/item.html?id=38a23837eeac4c81b4f4283967161c01' target='_blank'><b>community_college_district_2</b>\n",
       "                        </a>\n",
       "                        <br/><img src='https://nbs1.dev.geocloud.com/portal/home/js/jsapi/esri/css/images/item_type_icons/featureshosted16.png' style=\"vertical-align:middle;\">Feature Layer Collection by clonerator\n",
       "                        <br/>Last Modified: June 07, 2020\n",
       "                        <br/>0 comments, 49 views\n",
       "                    </div>\n",
       "                </div>\n",
       "                "
      ],
      "text/plain": [
       "<Item title:\"community_college_district_2\" type:Feature Layer Collection owner:clonerator>"
      ]
     },
     "execution_count": 9,
     "metadata": {},
     "output_type": "execute_result"
    }
   ],
   "source": [
    "comm_coll_flyr_item = comm_coll_items[0]\n",
    "comm_coll_flyr_item"
   ]
  },
  {
   "cell_type": "markdown",
   "metadata": {},
   "source": [
    "### Print information about the _Feature Layer_"
   ]
  },
  {
   "cell_type": "code",
   "execution_count": 10,
   "metadata": {
    "scrolled": false
   },
   "outputs": [
    {
     "name": "stdout",
     "output_type": "stream",
     "text": [
      "Hosted Feature Layer:              community_college_district_2\n",
      "--------------------------------------------------------------------------------\n",
      "  item id:            38a23837eeac4c81b4f4283967161c01\n",
      "  individual layer urls:\n",
      "    https://nbs1.dev.geocloud.com/server/rest/services/Hosted/community_college_district_2/FeatureServer/0\n"
     ]
    }
   ],
   "source": [
    "print(f\"{'Hosted Feature Layer:':35}{comm_coll_flyr_item.title}\\n{'-'*80}\")\n",
    "print(f\"{' '*2}{'item id:':20}{comm_coll_flyr_item.id}\")\n",
    "print(f\"{' '*2}individual layer urls:\")\n",
    "for flyr in comm_coll_flyr_item.layers:\n",
    "    print(f\"{' '*4}{flyr.url}\")"
   ]
  },
  {
   "cell_type": "markdown",
   "metadata": {},
   "source": [
    "### Visualize the _Feature Layer_"
   ]
  },
  {
   "cell_type": "code",
   "execution_count": 11,
   "metadata": {
    "scrolled": false
   },
   "outputs": [
    {
     "data": {
      "application/vnd.jupyter.widget-view+json": {
       "model_id": "f6050d68d15e4ff9b510f6b4b55f70e0",
       "version_major": 2,
       "version_minor": 0
      },
      "text/plain": [
       "MapView(layout=Layout(height='400px', width='100%'))"
      ]
     },
     "metadata": {},
     "output_type": "display_data"
    },
    {
     "data": {
      "text/html": [
       "<div class=\"map-static-img-preview-9763920a-c809-457f-895b-c0e690472852\"><img src=\"\"></img></div>"
      ],
      "text/plain": [
       "<IPython.core.display.HTML object>"
      ]
     },
     "metadata": {},
     "output_type": "display_data"
    }
   ],
   "source": [
    "map1 = source.map(\"San Diego County, CA\")\n",
    "map1.add_layer(comm_coll_flyr_item)\n",
    "map1"
   ]
  },
  {
   "cell_type": "markdown",
   "metadata": {},
   "source": [
    "## Clone the _Feature Layer_"
   ]
  },
  {
   "cell_type": "code",
   "execution_count": 12,
   "metadata": {
    "scrolled": false
   },
   "outputs": [],
   "source": [
    "try:\n",
    "    cloned_flyr_item = target.content.clone_items(items=[comm_coll_flyr_item],\n",
    "                                  folder=\"Community College Admin\")[0]\n",
    "except Exception as e:\n",
    "    print(\"Failed to clone.\")\n",
    "    print(str(e))"
   ]
  },
  {
   "cell_type": "markdown",
   "metadata": {},
   "source": [
    "### Print information about the cloned _Feature Layer_"
   ]
  },
  {
   "cell_type": "code",
   "execution_count": 13,
   "metadata": {
    "scrolled": false
   },
   "outputs": [
    {
     "name": "stdout",
     "output_type": "stream",
     "text": [
      "Hosted Feature Layer:              community_college_district_2\n",
      "--------------------------------------------------------------------------------\n",
      "  item id:            009f1c6bdb0e4cbcbae91799c6759839\n",
      "  individual layer urls:\n",
      "    https://nbs2.dev.geocloud.com/server/rest/services/Hosted/community_college_district_2/FeatureServer/0\n"
     ]
    }
   ],
   "source": [
    "print(f\"{'Hosted Feature Layer:':35}{cloned_flyr_item.title}\\n{'-'*80}\")\n",
    "print(f\"{' '*2}{'item id:':20}{cloned_flyr_item.id}\")\n",
    "print(f\"{' '*2}individual layer urls:\")\n",
    "for flyr in cloned_flyr_item.layers:\n",
    "    print(f\"{' '*4}{flyr.url}\")"
   ]
  },
  {
   "cell_type": "markdown",
   "metadata": {},
   "source": [
    "### Visualize the cloned _Feature Layer_"
   ]
  },
  {
   "cell_type": "code",
   "execution_count": 14,
   "metadata": {
    "scrolled": false
   },
   "outputs": [
    {
     "data": {
      "application/vnd.jupyter.widget-view+json": {
       "model_id": "aec019b1a17646d9abdd956e236b1c4a",
       "version_major": 2,
       "version_minor": 0
      },
      "text/plain": [
       "MapView(layout=Layout(height='400px', width='100%'))"
      ]
     },
     "metadata": {},
     "output_type": "display_data"
    },
    {
     "data": {
      "text/html": [
       "<div class=\"map-static-img-preview-d099e916-d822-46d3-8337-79b74623954a\"><img src=\"\"></img></div>"
      ],
      "text/plain": [
       "<IPython.core.display.HTML object>"
      ]
     },
     "metadata": {},
     "output_type": "display_data"
    }
   ],
   "source": [
    "map2 = target.map(\"San Diego County, CA\")\n",
    "map2.add_layer(cloned_flyr_item)\n",
    "map2"
   ]
  }
 ],
 "metadata": {
  "kernelspec": {
   "display_name": "Python 3",
   "language": "python",
   "name": "python3"
  },
  "language_info": {
   "codemirror_mode": {
    "name": "ipython",
    "version": 3
   },
   "file_extension": ".py",
   "mimetype": "text/x-python",
   "name": "python",
   "nbconvert_exporter": "python",
   "pygments_lexer": "ipython3",
   "version": "3.6.10"
  }
 },
 "nbformat": 4,
 "nbformat_minor": 4
}
