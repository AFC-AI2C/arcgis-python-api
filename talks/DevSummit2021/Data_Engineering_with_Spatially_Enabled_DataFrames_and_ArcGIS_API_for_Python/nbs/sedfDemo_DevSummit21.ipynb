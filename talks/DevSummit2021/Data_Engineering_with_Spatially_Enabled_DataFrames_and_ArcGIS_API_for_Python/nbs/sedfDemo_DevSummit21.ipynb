{
 "cells": [
  {
   "cell_type": "code",
   "execution_count": 1,
   "metadata": {},
   "outputs": [],
   "source": [
    "import warnings\n",
    "warnings.filterwarnings('ignore')"
   ]
  },
  {
   "cell_type": "markdown",
   "metadata": {
    "toc": true
   },
   "source": [
    "<h1>Table of Contents<span class=\"tocSkip\"></span></h1>\n",
    "<div class=\"toc\"><ul class=\"toc-item\"><li><span><a href=\"#Overview\" data-toc-modified-id=\"Overview-1\"><span class=\"toc-item-num\">1&nbsp;&nbsp;</span>Overview</a></span><ul class=\"toc-item\"><li><span><a href=\"#Installation-and-Import\" data-toc-modified-id=\"Installation-and-Import-1.1\"><span class=\"toc-item-num\">1.1&nbsp;&nbsp;</span>Installation and Import</a></span></li><li><span><a href=\"#Data-structures\" data-toc-modified-id=\"Data-structures-1.2\"><span class=\"toc-item-num\">1.2&nbsp;&nbsp;</span>Data structures</a></span></li></ul></li><li><span><a href=\"#Working-with-Series\" data-toc-modified-id=\"Working-with-Series-2\"><span class=\"toc-item-num\">2&nbsp;&nbsp;</span>Working with Series</a></span><ul class=\"toc-item\"><li><span><a href=\"#Create-Series-from-a-List\" data-toc-modified-id=\"Create-Series-from-a-List-2.1\"><span class=\"toc-item-num\">2.1&nbsp;&nbsp;</span>Create Series from a List</a></span></li><li><span><a href=\"#Access-Elements-of-a-Series\" data-toc-modified-id=\"Access-Elements-of-a-Series-2.2\"><span class=\"toc-item-num\">2.2&nbsp;&nbsp;</span>Access Elements of a Series</a></span></li></ul></li><li><span><a href=\"#Working-with-DataFrame\" data-toc-modified-id=\"Working-with-DataFrame-3\"><span class=\"toc-item-num\">3&nbsp;&nbsp;</span>Working with DataFrame</a></span><ul class=\"toc-item\"><li><span><a href=\"#Creating-a-DataFrame\" data-toc-modified-id=\"Creating-a-DataFrame-3.1\"><span class=\"toc-item-num\">3.1&nbsp;&nbsp;</span>Creating a DataFrame</a></span><ul class=\"toc-item\"><li><span><a href=\"#From-a-Dictionary\" data-toc-modified-id=\"From-a-Dictionary-3.1.1\"><span class=\"toc-item-num\">3.1.1&nbsp;&nbsp;</span>From a Dictionary</a></span></li></ul></li><li><span><a href=\"#Importing-Data-into-a-DataFrame\" data-toc-modified-id=\"Importing-Data-into-a-DataFrame-3.2\"><span class=\"toc-item-num\">3.2&nbsp;&nbsp;</span>Importing Data into a DataFrame</a></span><ul class=\"toc-item\"><li><span><a href=\"#Read-from-a-csv\" data-toc-modified-id=\"Read-from-a-csv-3.2.1\"><span class=\"toc-item-num\">3.2.1&nbsp;&nbsp;</span>Read from a csv</a></span></li><li><span><a href=\"#Quick-Summary\" data-toc-modified-id=\"Quick-Summary-3.2.2\"><span class=\"toc-item-num\">3.2.2&nbsp;&nbsp;</span>Quick Summary</a></span></li></ul></li><li><span><a href=\"#Navigating-a-DataFrame\" data-toc-modified-id=\"Navigating-a-DataFrame-3.3\"><span class=\"toc-item-num\">3.3&nbsp;&nbsp;</span>Navigating a DataFrame</a></span><ul class=\"toc-item\"><li><span><a href=\"#Selecting-Columns\" data-toc-modified-id=\"Selecting-Columns-3.3.1\"><span class=\"toc-item-num\">3.3.1&nbsp;&nbsp;</span>Selecting Columns</a></span></li><li><span><a href=\"#Selection-using-loc-and-iloc\" data-toc-modified-id=\"Selection-using-loc-and-iloc-3.3.2\"><span class=\"toc-item-num\">3.3.2&nbsp;&nbsp;</span>Selection using <code>loc</code> and <code>iloc</code></a></span><ul class=\"toc-item\"><li><span><a href=\"#Select-First-two-rows-and-all-columns\" data-toc-modified-id=\"Select-First-two-rows-and-all-columns-3.3.2.1\"><span class=\"toc-item-num\">3.3.2.1&nbsp;&nbsp;</span>Select First two rows and all columns</a></span></li><li><span><a href=\"#Select--Middle-subset-of-rows-and-columns\" data-toc-modified-id=\"Select--Middle-subset-of-rows-and-columns-3.3.2.2\"><span class=\"toc-item-num\">3.3.2.2&nbsp;&nbsp;</span>Select  Middle subset of rows and columns</a></span></li><li><span><a href=\"#Select-columns-from-Provider-State-until-All-deaths\" data-toc-modified-id=\"Select-columns-from-Provider-State-until-All-deaths-3.3.2.3\"><span class=\"toc-item-num\">3.3.2.3&nbsp;&nbsp;</span>Select columns from Provider State until All deaths</a></span></li></ul></li><li><span><a href=\"#Conditional-Selection-using-query()\" data-toc-modified-id=\"Conditional-Selection-using-query()-3.3.3\"><span class=\"toc-item-num\">3.3.3&nbsp;&nbsp;</span>Conditional Selection using <code>query()</code></a></span><ul class=\"toc-item\"><li><span><a href=\"#Single-Condition\" data-toc-modified-id=\"Single-Condition-3.3.3.1\"><span class=\"toc-item-num\">3.3.3.1&nbsp;&nbsp;</span>Single Condition</a></span></li><li><span><a href=\"#Multiple-Conditions\" data-toc-modified-id=\"Multiple-Conditions-3.3.3.2\"><span class=\"toc-item-num\">3.3.3.2&nbsp;&nbsp;</span>Multiple Conditions</a></span></li></ul></li></ul></li><li><span><a href=\"#Operating-on-DataFrames\" data-toc-modified-id=\"Operating-on-DataFrames-3.4\"><span class=\"toc-item-num\">3.4&nbsp;&nbsp;</span>Operating on DataFrames</a></span><ul class=\"toc-item\"><li><span><a href=\"#Combining-Data\" data-toc-modified-id=\"Combining-Data-3.4.1\"><span class=\"toc-item-num\">3.4.1&nbsp;&nbsp;</span>Combining Data</a></span></li><li><span><a href=\"#Dropping-Data\" data-toc-modified-id=\"Dropping-Data-3.4.2\"><span class=\"toc-item-num\">3.4.2&nbsp;&nbsp;</span>Dropping Data</a></span></li><li><span><a href=\"#Quick-Summary\" data-toc-modified-id=\"Quick-Summary-3.4.3\"><span class=\"toc-item-num\">3.4.3&nbsp;&nbsp;</span>Quick Summary</a></span></li></ul></li><li><span><a href=\"#Working-with-Missing-Data\" data-toc-modified-id=\"Working-with-Missing-Data-3.5\"><span class=\"toc-item-num\">3.5&nbsp;&nbsp;</span>Working with Missing Data</a></span><ul class=\"toc-item\"><li><span><a href=\"#Detect-Missing-Data\" data-toc-modified-id=\"Detect-Missing-Data-3.5.1\"><span class=\"toc-item-num\">3.5.1&nbsp;&nbsp;</span>Detect Missing Data</a></span></li><li><span><a href=\"#Drop-Missing-Data\" data-toc-modified-id=\"Drop-Missing-Data-3.5.2\"><span class=\"toc-item-num\">3.5.2&nbsp;&nbsp;</span>Drop Missing Data</a></span></li><li><span><a href=\"#Impute-Missing-Data\" data-toc-modified-id=\"Impute-Missing-Data-3.5.3\"><span class=\"toc-item-num\">3.5.3&nbsp;&nbsp;</span>Impute Missing Data</a></span></li></ul></li><li><span><a href=\"#Plot-Data\" data-toc-modified-id=\"Plot-Data-3.6\"><span class=\"toc-item-num\">3.6&nbsp;&nbsp;</span>Plot Data</a></span><ul class=\"toc-item\"><li><span><a href=\"#Line-Plot\" data-toc-modified-id=\"Line-Plot-3.6.1\"><span class=\"toc-item-num\">3.6.1&nbsp;&nbsp;</span>Line Plot</a></span></li><li><span><a href=\"#Scatter-Plot\" data-toc-modified-id=\"Scatter-Plot-3.6.2\"><span class=\"toc-item-num\">3.6.2&nbsp;&nbsp;</span>Scatter Plot</a></span></li><li><span><a href=\"#Subplots\" data-toc-modified-id=\"Subplots-3.6.3\"><span class=\"toc-item-num\">3.6.3&nbsp;&nbsp;</span>Subplots</a></span></li><li><span><a href=\"#Quick-Summary\" data-toc-modified-id=\"Quick-Summary-3.6.4\"><span class=\"toc-item-num\">3.6.4&nbsp;&nbsp;</span>Quick Summary</a></span></li></ul></li></ul></li></ul></div>"
   ]
  },
  {
   "cell_type": "markdown",
   "metadata": {},
   "source": [
    "<img src=\"https://upload.wikimedia.org/wikipedia/commons/thumb/e/ed/Pandas_logo.svg/512px-Pandas_logo.svg.png\">"
   ]
  },
  {
   "cell_type": "markdown",
   "metadata": {},
   "source": [
    "## Overview"
   ]
  },
  {
   "cell_type": "markdown",
   "metadata": {},
   "source": [
    "### Installation and Import\n",
    "A typical installation of Python API comes with Pandas. You can import it as:"
   ]
  },
  {
   "cell_type": "code",
   "execution_count": 3,
   "metadata": {},
   "outputs": [],
   "source": [
    "# Import Pandas\n",
    "import pandas as pd"
   ]
  },
  {
   "cell_type": "markdown",
   "metadata": {},
   "source": [
    "### Data structures"
   ]
  },
  {
   "cell_type": "markdown",
   "metadata": {},
   "source": [
    "- __`Series`__: one-dimensional labeled array capable of holding data of any type (integer, string, float, python objects, etc.)\n",
    "    - Eg.- a list of items\n",
    "    \n",
    "    \n",
    "- __`DataFrame`__: two-dimensional with labeled axes\n",
    "    - Eg.- a table on an excel spreadsheet"
   ]
  },
  {
   "cell_type": "markdown",
   "metadata": {},
   "source": [
    "## Working with Series"
   ]
  },
  {
   "cell_type": "markdown",
   "metadata": {},
   "source": [
    "`Series`\n",
    "- one-dimensional array of indexed data. \n",
    "- contains a sequence of values and an associated array of data labels, called `index`. "
   ]
  },
  {
   "cell_type": "markdown",
   "metadata": {},
   "source": [
    "### Create Series from a List"
   ]
  },
  {
   "cell_type": "markdown",
   "metadata": {},
   "source": [
    "A `Series` can be created from a list as follows:"
   ]
  },
  {
   "cell_type": "code",
   "execution_count": 4,
   "metadata": {},
   "outputs": [
    {
     "name": "stdout",
     "output_type": "stream",
     "text": [
      "0    176.7\n",
      "1    180.0\n",
      "2    172.8\n",
      "3    181.5\n",
      "4    178.9\n",
      "dtype: float64\n"
     ]
    }
   ],
   "source": [
    "# Create Series\n",
    "height = [176.7,180,172.8,181.5,178.9]\n",
    "s1 = pd.Series(height)\n",
    "\n",
    "print(s1)"
   ]
  },
  {
   "cell_type": "code",
   "execution_count": 5,
   "metadata": {},
   "outputs": [
    {
     "data": {
      "text/plain": [
       "pandas.core.series.Series"
      ]
     },
     "execution_count": 5,
     "metadata": {},
     "output_type": "execute_result"
    }
   ],
   "source": [
    "# Check type\n",
    "type(s1)"
   ]
  },
  {
   "cell_type": "markdown",
   "metadata": {},
   "source": [
    "The array representation and index object of the `Series` can be accessed via its `values` and `index` attributes:"
   ]
  },
  {
   "cell_type": "code",
   "execution_count": 6,
   "metadata": {},
   "outputs": [
    {
     "data": {
      "text/plain": [
       "array([176.7, 180. , 172.8, 181.5, 178.9])"
      ]
     },
     "execution_count": 6,
     "metadata": {},
     "output_type": "execute_result"
    }
   ],
   "source": [
    "# Access values\n",
    "s1.values"
   ]
  },
  {
   "cell_type": "code",
   "execution_count": 7,
   "metadata": {},
   "outputs": [
    {
     "data": {
      "text/plain": [
       "RangeIndex(start=0, stop=5, step=1)"
      ]
     },
     "execution_count": 7,
     "metadata": {},
     "output_type": "execute_result"
    }
   ],
   "source": [
    "# Access index\n",
    "s1.index"
   ]
  },
  {
   "cell_type": "markdown",
   "metadata": {},
   "source": [
    "### Access Elements of a Series"
   ]
  },
  {
   "cell_type": "markdown",
   "metadata": {},
   "source": [
    "Like NumPy arrays, data in a `Series` can be accessed by the associated index."
   ]
  },
  {
   "cell_type": "code",
   "execution_count": 8,
   "metadata": {},
   "outputs": [
    {
     "data": {
      "text/plain": [
       "0    176.7\n",
       "1    180.0\n",
       "2    172.8\n",
       "3    181.5\n",
       "4    178.9\n",
       "dtype: float64"
      ]
     },
     "execution_count": 8,
     "metadata": {},
     "output_type": "execute_result"
    }
   ],
   "source": [
    "# Show series\n",
    "s1"
   ]
  },
  {
   "cell_type": "code",
   "execution_count": 9,
   "metadata": {},
   "outputs": [
    {
     "name": "stdout",
     "output_type": "stream",
     "text": [
      "176.7\n",
      "181.5\n"
     ]
    }
   ],
   "source": [
    "# Access element using index\n",
    "print(s1[0])\n",
    "print(s1[3])"
   ]
  },
  {
   "cell_type": "code",
   "execution_count": 10,
   "metadata": {},
   "outputs": [
    {
     "name": "stdout",
     "output_type": "stream",
     "text": [
      "0    176.7\n",
      "1    180.0\n",
      "2    172.8\n",
      "dtype: float64\n"
     ]
    }
   ],
   "source": [
    "# Access first three elements\n",
    "print(s1[0:3])"
   ]
  },
  {
   "cell_type": "code",
   "execution_count": 11,
   "metadata": {},
   "outputs": [
    {
     "name": "stdout",
     "output_type": "stream",
     "text": [
      "4    178.9\n",
      "dtype: float64\n"
     ]
    }
   ],
   "source": [
    "# Access last element\n",
    "print(s1[-1:])"
   ]
  },
  {
   "cell_type": "markdown",
   "metadata": {},
   "source": [
    "## Working with DataFrame"
   ]
  },
  {
   "cell_type": "markdown",
   "metadata": {},
   "source": [
    "[`DataFrame`](https://pandas.pydata.org/pandas-docs/stable/user_guide/dsintro.html) \n",
    "- represents a rectangular table of data and contains an ordered collection of columns. \n",
    "    - e.g. - a spreadsheet or a SQL table\n",
    "- each column has a name for reference and each row can be accessed by using row numbers. \n",
    "- each column can be of a different value type (numeric, string, boolean, etc.). \n"
   ]
  },
  {
   "cell_type": "markdown",
   "metadata": {},
   "source": [
    "### Creating a DataFrame"
   ]
  },
  {
   "cell_type": "markdown",
   "metadata": {},
   "source": [
    "#### From a Dictionary\n",
    "`DataFrame` can be constructed from a dictionary of equal sized lists or NumPy arrays."
   ]
  },
  {
   "cell_type": "code",
   "execution_count": 12,
   "metadata": {},
   "outputs": [
    {
     "data": {
      "text/html": [
       "<div>\n",
       "<style scoped>\n",
       "    .dataframe tbody tr th:only-of-type {\n",
       "        vertical-align: middle;\n",
       "    }\n",
       "\n",
       "    .dataframe tbody tr th {\n",
       "        vertical-align: top;\n",
       "    }\n",
       "\n",
       "    .dataframe thead th {\n",
       "        text-align: right;\n",
       "    }\n",
       "</style>\n",
       "<table border=\"1\" class=\"dataframe\">\n",
       "  <thead>\n",
       "    <tr style=\"text-align: right;\">\n",
       "      <th></th>\n",
       "      <th>state</th>\n",
       "      <th>year</th>\n",
       "      <th>population</th>\n",
       "    </tr>\n",
       "  </thead>\n",
       "  <tbody>\n",
       "    <tr>\n",
       "      <th>0</th>\n",
       "      <td>CA</td>\n",
       "      <td>2015</td>\n",
       "      <td>38.50</td>\n",
       "    </tr>\n",
       "    <tr>\n",
       "      <th>1</th>\n",
       "      <td>WA</td>\n",
       "      <td>2015</td>\n",
       "      <td>7.00</td>\n",
       "    </tr>\n",
       "    <tr>\n",
       "      <th>2</th>\n",
       "      <td>CA</td>\n",
       "      <td>2016</td>\n",
       "      <td>39.00</td>\n",
       "    </tr>\n",
       "    <tr>\n",
       "      <th>3</th>\n",
       "      <td>WA</td>\n",
       "      <td>2016</td>\n",
       "      <td>7.25</td>\n",
       "    </tr>\n",
       "    <tr>\n",
       "      <th>4</th>\n",
       "      <td>CA</td>\n",
       "      <td>2017</td>\n",
       "      <td>39.50</td>\n",
       "    </tr>\n",
       "    <tr>\n",
       "      <th>5</th>\n",
       "      <td>WA</td>\n",
       "      <td>2017</td>\n",
       "      <td>7.50</td>\n",
       "    </tr>\n",
       "  </tbody>\n",
       "</table>\n",
       "</div>"
      ],
      "text/plain": [
       "  state  year  population\n",
       "0    CA  2015       38.50\n",
       "1    WA  2015        7.00\n",
       "2    CA  2016       39.00\n",
       "3    WA  2016        7.25\n",
       "4    CA  2017       39.50\n",
       "5    WA  2017        7.50"
      ]
     },
     "execution_count": 12,
     "metadata": {},
     "output_type": "execute_result"
    }
   ],
   "source": [
    "data = {'state':['CA','WA','CA','WA','CA','WA'],\n",
    "        'year':[2015,2015,2016,2016,2017,2017],\n",
    "        'population':[38.5,7.0,39.0,7.25,39.5,7.5]}\n",
    "\n",
    "df1 = pd.DataFrame(data)\n",
    "df1"
   ]
  },
  {
   "cell_type": "markdown",
   "metadata": {},
   "source": [
    "### Importing Data into a DataFrame"
   ]
  },
  {
   "cell_type": "markdown",
   "metadata": {},
   "source": [
    "__Pandas__ provides ability to:\n",
    "- read data from various formats (CSV, JSON, Excel, APIs, etc.) directly into a `DataFrame` object.\n",
    "\n",
    "__Dataset:__ We will use a subset of [Covid-19 Nursing Home data](https://data.cms.gov/Special-Programs-Initiatives-COVID-19-Nursing-Home/COVID-19-Nursing-Home-Dataset/s2uc-8wxp) from Centers for Medicare & Medicaid Services ([CMS](https://www.cms.gov/)) to illustrate this example.\n",
    "\n",
    "__Note:__ the dataset used in this example has been curated for illustration purposes and does not reflect the complete dataset available at [CMS](https://www.cms.gov/) website."
   ]
  },
  {
   "cell_type": "markdown",
   "metadata": {},
   "source": [
    "#### Read from a csv"
   ]
  },
  {
   "cell_type": "code",
   "execution_count": 13,
   "metadata": {},
   "outputs": [],
   "source": [
    "# Read the data from csv\n",
    "covid_df = pd.read_csv('sample_cms_covid.csv')"
   ]
  },
  {
   "cell_type": "code",
   "execution_count": 15,
   "metadata": {},
   "outputs": [
    {
     "data": {
      "text/html": [
       "<div>\n",
       "<style scoped>\n",
       "    .dataframe tbody tr th:only-of-type {\n",
       "        vertical-align: middle;\n",
       "    }\n",
       "\n",
       "    .dataframe tbody tr th {\n",
       "        vertical-align: top;\n",
       "    }\n",
       "\n",
       "    .dataframe thead th {\n",
       "        text-align: right;\n",
       "    }\n",
       "</style>\n",
       "<table border=\"1\" class=\"dataframe\">\n",
       "  <thead>\n",
       "    <tr style=\"text-align: right;\">\n",
       "      <th></th>\n",
       "      <th>Provider_City</th>\n",
       "      <th>Provide_State</th>\n",
       "      <th>Covid_Admissions</th>\n",
       "      <th>Confirmed_Cases</th>\n",
       "      <th>Suspected_Cases</th>\n",
       "      <th>All_Deaths</th>\n",
       "      <th>COVID-19_Deaths</th>\n",
       "    </tr>\n",
       "  </thead>\n",
       "  <tbody>\n",
       "    <tr>\n",
       "      <th>0</th>\n",
       "      <td>NILES</td>\n",
       "      <td>IL</td>\n",
       "      <td>5.0</td>\n",
       "      <td>56.0</td>\n",
       "      <td>10.0</td>\n",
       "      <td>15.0</td>\n",
       "      <td>12.0</td>\n",
       "    </tr>\n",
       "    <tr>\n",
       "      <th>1</th>\n",
       "      <td>DUNKIRK</td>\n",
       "      <td>IN</td>\n",
       "      <td>0.0</td>\n",
       "      <td>0.0</td>\n",
       "      <td>0.0</td>\n",
       "      <td>0.0</td>\n",
       "      <td>0.0</td>\n",
       "    </tr>\n",
       "    <tr>\n",
       "      <th>2</th>\n",
       "      <td>MARION</td>\n",
       "      <td>IL</td>\n",
       "      <td>0.0</td>\n",
       "      <td>0.0</td>\n",
       "      <td>0.0</td>\n",
       "      <td>0.0</td>\n",
       "      <td>0.0</td>\n",
       "    </tr>\n",
       "    <tr>\n",
       "      <th>3</th>\n",
       "      <td>LONG GROVE</td>\n",
       "      <td>IL</td>\n",
       "      <td>6.0</td>\n",
       "      <td>141.0</td>\n",
       "      <td>3.0</td>\n",
       "      <td>0.0</td>\n",
       "      <td>0.0</td>\n",
       "    </tr>\n",
       "    <tr>\n",
       "      <th>4</th>\n",
       "      <td>CHICAGO</td>\n",
       "      <td>IL</td>\n",
       "      <td>19.0</td>\n",
       "      <td>75.0</td>\n",
       "      <td>0.0</td>\n",
       "      <td>43.0</td>\n",
       "      <td>16.0</td>\n",
       "    </tr>\n",
       "    <tr>\n",
       "      <th>5</th>\n",
       "      <td>BOONVILLE</td>\n",
       "      <td>IN</td>\n",
       "      <td>0.0</td>\n",
       "      <td>0.0</td>\n",
       "      <td>0.0</td>\n",
       "      <td>0.0</td>\n",
       "      <td>0.0</td>\n",
       "    </tr>\n",
       "    <tr>\n",
       "      <th>6</th>\n",
       "      <td>INDIANAPOLIS</td>\n",
       "      <td>IN</td>\n",
       "      <td>2.0</td>\n",
       "      <td>1.0</td>\n",
       "      <td>0.0</td>\n",
       "      <td>1.0</td>\n",
       "      <td>1.0</td>\n",
       "    </tr>\n",
       "    <tr>\n",
       "      <th>7</th>\n",
       "      <td>GOSHEN</td>\n",
       "      <td>IN</td>\n",
       "      <td>3.0</td>\n",
       "      <td>65.0</td>\n",
       "      <td>65.0</td>\n",
       "      <td>36.0</td>\n",
       "      <td>13.0</td>\n",
       "    </tr>\n",
       "    <tr>\n",
       "      <th>8</th>\n",
       "      <td>MARTINSVILLE</td>\n",
       "      <td>IN</td>\n",
       "      <td>2.0</td>\n",
       "      <td>33.0</td>\n",
       "      <td>2.0</td>\n",
       "      <td>9.0</td>\n",
       "      <td>8.0</td>\n",
       "    </tr>\n",
       "    <tr>\n",
       "      <th>9</th>\n",
       "      <td>JASPER</td>\n",
       "      <td>IN</td>\n",
       "      <td>0.0</td>\n",
       "      <td>0.0</td>\n",
       "      <td>0.0</td>\n",
       "      <td>1.0</td>\n",
       "      <td>0.0</td>\n",
       "    </tr>\n",
       "    <tr>\n",
       "      <th>10</th>\n",
       "      <td>CAIRO</td>\n",
       "      <td>IL</td>\n",
       "      <td>0.0</td>\n",
       "      <td>NaN</td>\n",
       "      <td>0.0</td>\n",
       "      <td>NaN</td>\n",
       "      <td>0.0</td>\n",
       "    </tr>\n",
       "    <tr>\n",
       "      <th>11</th>\n",
       "      <td>CONNERSVILLE</td>\n",
       "      <td>IN</td>\n",
       "      <td>0.0</td>\n",
       "      <td>0.0</td>\n",
       "      <td>8.0</td>\n",
       "      <td>0.0</td>\n",
       "      <td>0.0</td>\n",
       "    </tr>\n",
       "    <tr>\n",
       "      <th>12</th>\n",
       "      <td>MORRIS</td>\n",
       "      <td>IL</td>\n",
       "      <td>0.0</td>\n",
       "      <td>16.0</td>\n",
       "      <td>0.0</td>\n",
       "      <td>7.0</td>\n",
       "      <td>1.0</td>\n",
       "    </tr>\n",
       "    <tr>\n",
       "      <th>13</th>\n",
       "      <td>MOORESVILLE</td>\n",
       "      <td>IN</td>\n",
       "      <td>0.0</td>\n",
       "      <td>1.0</td>\n",
       "      <td>1.0</td>\n",
       "      <td>3.0</td>\n",
       "      <td>0.0</td>\n",
       "    </tr>\n",
       "    <tr>\n",
       "      <th>14</th>\n",
       "      <td>BURBANK</td>\n",
       "      <td>IL</td>\n",
       "      <td>44.0</td>\n",
       "      <td>3.0</td>\n",
       "      <td>0.0</td>\n",
       "      <td>23.0</td>\n",
       "      <td>2.0</td>\n",
       "    </tr>\n",
       "    <tr>\n",
       "      <th>15</th>\n",
       "      <td>GENESEO</td>\n",
       "      <td>IL</td>\n",
       "      <td>0.0</td>\n",
       "      <td>0.0</td>\n",
       "      <td>NaN</td>\n",
       "      <td>NaN</td>\n",
       "      <td>0.0</td>\n",
       "    </tr>\n",
       "    <tr>\n",
       "      <th>16</th>\n",
       "      <td>NEW CASTLE</td>\n",
       "      <td>IN</td>\n",
       "      <td>19.0</td>\n",
       "      <td>53.0</td>\n",
       "      <td>0.0</td>\n",
       "      <td>19.0</td>\n",
       "      <td>11.0</td>\n",
       "    </tr>\n",
       "    <tr>\n",
       "      <th>17</th>\n",
       "      <td>BLUFFTON</td>\n",
       "      <td>IN</td>\n",
       "      <td>0.0</td>\n",
       "      <td>0.0</td>\n",
       "      <td>1.0</td>\n",
       "      <td>0.0</td>\n",
       "      <td>0.0</td>\n",
       "    </tr>\n",
       "    <tr>\n",
       "      <th>18</th>\n",
       "      <td>LEBANON</td>\n",
       "      <td>IN</td>\n",
       "      <td>2.0</td>\n",
       "      <td>28.0</td>\n",
       "      <td>1.0</td>\n",
       "      <td>7.0</td>\n",
       "      <td>4.0</td>\n",
       "    </tr>\n",
       "    <tr>\n",
       "      <th>19</th>\n",
       "      <td>MOUNT PULASKI</td>\n",
       "      <td>IL</td>\n",
       "      <td>0.0</td>\n",
       "      <td>0.0</td>\n",
       "      <td>6.0</td>\n",
       "      <td>NaN</td>\n",
       "      <td>NaN</td>\n",
       "    </tr>\n",
       "  </tbody>\n",
       "</table>\n",
       "</div>"
      ],
      "text/plain": [
       "    Provider_City Provide_State  Covid_Admissions  Confirmed_Cases  \\\n",
       "0           NILES            IL               5.0             56.0   \n",
       "1         DUNKIRK            IN               0.0              0.0   \n",
       "2          MARION            IL               0.0              0.0   \n",
       "3      LONG GROVE            IL               6.0            141.0   \n",
       "4         CHICAGO            IL              19.0             75.0   \n",
       "5       BOONVILLE            IN               0.0              0.0   \n",
       "6    INDIANAPOLIS            IN               2.0              1.0   \n",
       "7          GOSHEN            IN               3.0             65.0   \n",
       "8    MARTINSVILLE            IN               2.0             33.0   \n",
       "9          JASPER            IN               0.0              0.0   \n",
       "10          CAIRO            IL               0.0              NaN   \n",
       "11   CONNERSVILLE            IN               0.0              0.0   \n",
       "12         MORRIS            IL               0.0             16.0   \n",
       "13    MOORESVILLE            IN               0.0              1.0   \n",
       "14        BURBANK            IL              44.0              3.0   \n",
       "15        GENESEO            IL               0.0              0.0   \n",
       "16     NEW CASTLE            IN              19.0             53.0   \n",
       "17       BLUFFTON            IN               0.0              0.0   \n",
       "18        LEBANON            IN               2.0             28.0   \n",
       "19  MOUNT PULASKI            IL               0.0              0.0   \n",
       "\n",
       "    Suspected_Cases  All_Deaths  COVID-19_Deaths  \n",
       "0              10.0        15.0             12.0  \n",
       "1               0.0         0.0              0.0  \n",
       "2               0.0         0.0              0.0  \n",
       "3               3.0         0.0              0.0  \n",
       "4               0.0        43.0             16.0  \n",
       "5               0.0         0.0              0.0  \n",
       "6               0.0         1.0              1.0  \n",
       "7              65.0        36.0             13.0  \n",
       "8               2.0         9.0              8.0  \n",
       "9               0.0         1.0              0.0  \n",
       "10              0.0         NaN              0.0  \n",
       "11              8.0         0.0              0.0  \n",
       "12              0.0         7.0              1.0  \n",
       "13              1.0         3.0              0.0  \n",
       "14              0.0        23.0              2.0  \n",
       "15              NaN         NaN              0.0  \n",
       "16              0.0        19.0             11.0  \n",
       "17              1.0         0.0              0.0  \n",
       "18              1.0         7.0              4.0  \n",
       "19              6.0         NaN              NaN  "
      ]
     },
     "execution_count": 15,
     "metadata": {},
     "output_type": "execute_result"
    }
   ],
   "source": [
    "# Check first few rows using head()\n",
    "covid_df.head(20)"
   ]
  },
  {
   "cell_type": "code",
   "execution_count": 16,
   "metadata": {},
   "outputs": [
    {
     "data": {
      "text/plain": [
       "Provider_City        object\n",
       "Provide_State        object\n",
       "Covid_Admissions    float64\n",
       "Confirmed_Cases     float64\n",
       "Suspected_Cases     float64\n",
       "All_Deaths          float64\n",
       "COVID-19_Deaths     float64\n",
       "dtype: object"
      ]
     },
     "execution_count": 16,
     "metadata": {},
     "output_type": "execute_result"
    }
   ],
   "source": [
    "# Check data types\n",
    "covid_df.dtypes"
   ]
  },
  {
   "cell_type": "code",
   "execution_count": 17,
   "metadata": {},
   "outputs": [
    {
     "data": {
      "text/plain": [
       "(90, 7)"
      ]
     },
     "execution_count": 17,
     "metadata": {},
     "output_type": "execute_result"
    }
   ],
   "source": [
    "# Check shape of data\n",
    "covid_df.shape"
   ]
  },
  {
   "cell_type": "markdown",
   "metadata": {
    "heading_collapsed": true
   },
   "source": [
    "#### Quick Summary\n",
    "- Create a Series\n",
    "    - Access elements of a series\n",
    "- Create a DataFrame\n",
    "- Import data into a DataFrame"
   ]
  },
  {
   "cell_type": "markdown",
   "metadata": {},
   "source": [
    "### Navigating a DataFrame"
   ]
  },
  {
   "cell_type": "markdown",
   "metadata": {},
   "source": [
    "Elements or subsets of a `DataFrame` can be accessed in multiple ways. \n",
    "- By location, like lists.\n",
    "- By label, like dictionaries.\n",
    "- By boolean masks like NumPy arrays.\n",
    "- Special indexing operators such as `loc` and `iloc`."
   ]
  },
  {
   "cell_type": "markdown",
   "metadata": {},
   "source": [
    "#### Selecting Columns"
   ]
  },
  {
   "cell_type": "markdown",
   "metadata": {},
   "source": [
    "Columns of the DataFrame are essentially `Series` objects that can be accessed via dictionary-style indexing."
   ]
  },
  {
   "cell_type": "code",
   "execution_count": 18,
   "metadata": {},
   "outputs": [
    {
     "data": {
      "text/html": [
       "<div>\n",
       "<style scoped>\n",
       "    .dataframe tbody tr th:only-of-type {\n",
       "        vertical-align: middle;\n",
       "    }\n",
       "\n",
       "    .dataframe tbody tr th {\n",
       "        vertical-align: top;\n",
       "    }\n",
       "\n",
       "    .dataframe thead th {\n",
       "        text-align: right;\n",
       "    }\n",
       "</style>\n",
       "<table border=\"1\" class=\"dataframe\">\n",
       "  <thead>\n",
       "    <tr style=\"text-align: right;\">\n",
       "      <th></th>\n",
       "      <th>Provider_City</th>\n",
       "      <th>Provide_State</th>\n",
       "      <th>Covid_Admissions</th>\n",
       "      <th>Confirmed_Cases</th>\n",
       "      <th>Suspected_Cases</th>\n",
       "      <th>All_Deaths</th>\n",
       "      <th>COVID-19_Deaths</th>\n",
       "    </tr>\n",
       "  </thead>\n",
       "  <tbody>\n",
       "    <tr>\n",
       "      <th>0</th>\n",
       "      <td>NILES</td>\n",
       "      <td>IL</td>\n",
       "      <td>5.0</td>\n",
       "      <td>56.0</td>\n",
       "      <td>10.0</td>\n",
       "      <td>15.0</td>\n",
       "      <td>12.0</td>\n",
       "    </tr>\n",
       "    <tr>\n",
       "      <th>1</th>\n",
       "      <td>DUNKIRK</td>\n",
       "      <td>IN</td>\n",
       "      <td>0.0</td>\n",
       "      <td>0.0</td>\n",
       "      <td>0.0</td>\n",
       "      <td>0.0</td>\n",
       "      <td>0.0</td>\n",
       "    </tr>\n",
       "    <tr>\n",
       "      <th>2</th>\n",
       "      <td>MARION</td>\n",
       "      <td>IL</td>\n",
       "      <td>0.0</td>\n",
       "      <td>0.0</td>\n",
       "      <td>0.0</td>\n",
       "      <td>0.0</td>\n",
       "      <td>0.0</td>\n",
       "    </tr>\n",
       "    <tr>\n",
       "      <th>3</th>\n",
       "      <td>LONG GROVE</td>\n",
       "      <td>IL</td>\n",
       "      <td>6.0</td>\n",
       "      <td>141.0</td>\n",
       "      <td>3.0</td>\n",
       "      <td>0.0</td>\n",
       "      <td>0.0</td>\n",
       "    </tr>\n",
       "    <tr>\n",
       "      <th>4</th>\n",
       "      <td>CHICAGO</td>\n",
       "      <td>IL</td>\n",
       "      <td>19.0</td>\n",
       "      <td>75.0</td>\n",
       "      <td>0.0</td>\n",
       "      <td>43.0</td>\n",
       "      <td>16.0</td>\n",
       "    </tr>\n",
       "  </tbody>\n",
       "</table>\n",
       "</div>"
      ],
      "text/plain": [
       "  Provider_City Provide_State  Covid_Admissions  Confirmed_Cases  \\\n",
       "0         NILES            IL               5.0             56.0   \n",
       "1       DUNKIRK            IN               0.0              0.0   \n",
       "2        MARION            IL               0.0              0.0   \n",
       "3    LONG GROVE            IL               6.0            141.0   \n",
       "4       CHICAGO            IL              19.0             75.0   \n",
       "\n",
       "   Suspected_Cases  All_Deaths  COVID-19_Deaths  \n",
       "0             10.0        15.0             12.0  \n",
       "1              0.0         0.0              0.0  \n",
       "2              0.0         0.0              0.0  \n",
       "3              3.0         0.0              0.0  \n",
       "4              0.0        43.0             16.0  "
      ]
     },
     "execution_count": 18,
     "metadata": {},
     "output_type": "execute_result"
    }
   ],
   "source": [
    "# Check data\n",
    "covid_df.head()"
   ]
  },
  {
   "cell_type": "code",
   "execution_count": 19,
   "metadata": {},
   "outputs": [
    {
     "data": {
      "text/plain": [
       "0      56.0\n",
       "1       0.0\n",
       "2       0.0\n",
       "3     141.0\n",
       "4      75.0\n",
       "      ...  \n",
       "85      4.0\n",
       "86      0.0\n",
       "87      0.0\n",
       "88      2.0\n",
       "89      0.0\n",
       "Name: Confirmed_Cases, Length: 90, dtype: float64"
      ]
     },
     "execution_count": 19,
     "metadata": {},
     "output_type": "execute_result"
    }
   ],
   "source": [
    "# Get Covid cases column\n",
    "covid_df['Confirmed_Cases']"
   ]
  },
  {
   "cell_type": "markdown",
   "metadata": {},
   "source": [
    "Individual columns can also be selected using __attribute-style__ access."
   ]
  },
  {
   "cell_type": "code",
   "execution_count": 20,
   "metadata": {},
   "outputs": [
    {
     "data": {
      "text/plain": [
       "0     15.0\n",
       "1      0.0\n",
       "2      0.0\n",
       "3      0.0\n",
       "4     43.0\n",
       "      ... \n",
       "85    19.0\n",
       "86     1.0\n",
       "87     0.0\n",
       "88     7.0\n",
       "89     7.0\n",
       "Name: All_Deaths, Length: 90, dtype: float64"
      ]
     },
     "execution_count": 20,
     "metadata": {},
     "output_type": "execute_result"
    }
   ],
   "source": [
    "# Get rainfall column\n",
    "covid_df.All_Deaths"
   ]
  },
  {
   "cell_type": "markdown",
   "metadata": {},
   "source": [
    "#### Selection using `loc` and `iloc`"
   ]
  },
  {
   "cell_type": "markdown",
   "metadata": {},
   "source": [
    "\n",
    "`loc` and `iloc` can be used to select a subset of the rows and columns from a DataFrame. \n",
    "\n",
    "- `.loc` for label-based indexing - subset by specifying index and column names\n",
    "- `.iloc` for positional indexing - subset by specifying index and column position"
   ]
  },
  {
   "cell_type": "markdown",
   "metadata": {},
   "source": [
    "__Selection using `.iloc`__\n",
    "\n",
    "`.iloc` is used for positional indexing."
   ]
  },
  {
   "cell_type": "code",
   "execution_count": 21,
   "metadata": {},
   "outputs": [
    {
     "data": {
      "text/html": [
       "<div>\n",
       "<style scoped>\n",
       "    .dataframe tbody tr th:only-of-type {\n",
       "        vertical-align: middle;\n",
       "    }\n",
       "\n",
       "    .dataframe tbody tr th {\n",
       "        vertical-align: top;\n",
       "    }\n",
       "\n",
       "    .dataframe thead th {\n",
       "        text-align: right;\n",
       "    }\n",
       "</style>\n",
       "<table border=\"1\" class=\"dataframe\">\n",
       "  <thead>\n",
       "    <tr style=\"text-align: right;\">\n",
       "      <th></th>\n",
       "      <th>Provider_City</th>\n",
       "      <th>Provide_State</th>\n",
       "      <th>Covid_Admissions</th>\n",
       "      <th>Confirmed_Cases</th>\n",
       "      <th>Suspected_Cases</th>\n",
       "      <th>All_Deaths</th>\n",
       "      <th>COVID-19_Deaths</th>\n",
       "    </tr>\n",
       "  </thead>\n",
       "  <tbody>\n",
       "    <tr>\n",
       "      <th>0</th>\n",
       "      <td>NILES</td>\n",
       "      <td>IL</td>\n",
       "      <td>5.0</td>\n",
       "      <td>56.0</td>\n",
       "      <td>10.0</td>\n",
       "      <td>15.0</td>\n",
       "      <td>12.0</td>\n",
       "    </tr>\n",
       "    <tr>\n",
       "      <th>1</th>\n",
       "      <td>DUNKIRK</td>\n",
       "      <td>IN</td>\n",
       "      <td>0.0</td>\n",
       "      <td>0.0</td>\n",
       "      <td>0.0</td>\n",
       "      <td>0.0</td>\n",
       "      <td>0.0</td>\n",
       "    </tr>\n",
       "    <tr>\n",
       "      <th>2</th>\n",
       "      <td>MARION</td>\n",
       "      <td>IL</td>\n",
       "      <td>0.0</td>\n",
       "      <td>0.0</td>\n",
       "      <td>0.0</td>\n",
       "      <td>0.0</td>\n",
       "      <td>0.0</td>\n",
       "    </tr>\n",
       "    <tr>\n",
       "      <th>3</th>\n",
       "      <td>LONG GROVE</td>\n",
       "      <td>IL</td>\n",
       "      <td>6.0</td>\n",
       "      <td>141.0</td>\n",
       "      <td>3.0</td>\n",
       "      <td>0.0</td>\n",
       "      <td>0.0</td>\n",
       "    </tr>\n",
       "    <tr>\n",
       "      <th>4</th>\n",
       "      <td>CHICAGO</td>\n",
       "      <td>IL</td>\n",
       "      <td>19.0</td>\n",
       "      <td>75.0</td>\n",
       "      <td>0.0</td>\n",
       "      <td>43.0</td>\n",
       "      <td>16.0</td>\n",
       "    </tr>\n",
       "  </tbody>\n",
       "</table>\n",
       "</div>"
      ],
      "text/plain": [
       "  Provider_City Provide_State  Covid_Admissions  Confirmed_Cases  \\\n",
       "0         NILES            IL               5.0             56.0   \n",
       "1       DUNKIRK            IN               0.0              0.0   \n",
       "2        MARION            IL               0.0              0.0   \n",
       "3    LONG GROVE            IL               6.0            141.0   \n",
       "4       CHICAGO            IL              19.0             75.0   \n",
       "\n",
       "   Suspected_Cases  All_Deaths  COVID-19_Deaths  \n",
       "0             10.0        15.0             12.0  \n",
       "1              0.0         0.0              0.0  \n",
       "2              0.0         0.0              0.0  \n",
       "3              3.0         0.0              0.0  \n",
       "4              0.0        43.0             16.0  "
      ]
     },
     "execution_count": 21,
     "metadata": {},
     "output_type": "execute_result"
    }
   ],
   "source": [
    "# Check data\n",
    "covid_df.head()"
   ]
  },
  {
   "cell_type": "markdown",
   "metadata": {},
   "source": [
    "##### Select First two rows and all columns"
   ]
  },
  {
   "cell_type": "code",
   "execution_count": 22,
   "metadata": {},
   "outputs": [
    {
     "data": {
      "text/html": [
       "<div>\n",
       "<style scoped>\n",
       "    .dataframe tbody tr th:only-of-type {\n",
       "        vertical-align: middle;\n",
       "    }\n",
       "\n",
       "    .dataframe tbody tr th {\n",
       "        vertical-align: top;\n",
       "    }\n",
       "\n",
       "    .dataframe thead th {\n",
       "        text-align: right;\n",
       "    }\n",
       "</style>\n",
       "<table border=\"1\" class=\"dataframe\">\n",
       "  <thead>\n",
       "    <tr style=\"text-align: right;\">\n",
       "      <th></th>\n",
       "      <th>Provider_City</th>\n",
       "      <th>Provide_State</th>\n",
       "      <th>Covid_Admissions</th>\n",
       "      <th>Confirmed_Cases</th>\n",
       "      <th>Suspected_Cases</th>\n",
       "      <th>All_Deaths</th>\n",
       "      <th>COVID-19_Deaths</th>\n",
       "    </tr>\n",
       "  </thead>\n",
       "  <tbody>\n",
       "    <tr>\n",
       "      <th>0</th>\n",
       "      <td>NILES</td>\n",
       "      <td>IL</td>\n",
       "      <td>5.0</td>\n",
       "      <td>56.0</td>\n",
       "      <td>10.0</td>\n",
       "      <td>15.0</td>\n",
       "      <td>12.0</td>\n",
       "    </tr>\n",
       "    <tr>\n",
       "      <th>1</th>\n",
       "      <td>DUNKIRK</td>\n",
       "      <td>IN</td>\n",
       "      <td>0.0</td>\n",
       "      <td>0.0</td>\n",
       "      <td>0.0</td>\n",
       "      <td>0.0</td>\n",
       "      <td>0.0</td>\n",
       "    </tr>\n",
       "  </tbody>\n",
       "</table>\n",
       "</div>"
      ],
      "text/plain": [
       "  Provider_City Provide_State  Covid_Admissions  Confirmed_Cases  \\\n",
       "0         NILES            IL               5.0             56.0   \n",
       "1       DUNKIRK            IN               0.0              0.0   \n",
       "\n",
       "   Suspected_Cases  All_Deaths  COVID-19_Deaths  \n",
       "0             10.0        15.0             12.0  \n",
       "1              0.0         0.0              0.0  "
      ]
     },
     "execution_count": 22,
     "metadata": {},
     "output_type": "execute_result"
    }
   ],
   "source": [
    "# First two rows and all columns\n",
    "covid_df.iloc[:2, :]"
   ]
  },
  {
   "cell_type": "markdown",
   "metadata": {},
   "source": [
    "##### Select  Middle subset of rows and columns"
   ]
  },
  {
   "cell_type": "code",
   "execution_count": 23,
   "metadata": {},
   "outputs": [
    {
     "data": {
      "text/html": [
       "<div>\n",
       "<style scoped>\n",
       "    .dataframe tbody tr th:only-of-type {\n",
       "        vertical-align: middle;\n",
       "    }\n",
       "\n",
       "    .dataframe tbody tr th {\n",
       "        vertical-align: top;\n",
       "    }\n",
       "\n",
       "    .dataframe thead th {\n",
       "        text-align: right;\n",
       "    }\n",
       "</style>\n",
       "<table border=\"1\" class=\"dataframe\">\n",
       "  <thead>\n",
       "    <tr style=\"text-align: right;\">\n",
       "      <th></th>\n",
       "      <th>Covid_Admissions</th>\n",
       "      <th>Confirmed_Cases</th>\n",
       "    </tr>\n",
       "  </thead>\n",
       "  <tbody>\n",
       "    <tr>\n",
       "      <th>2</th>\n",
       "      <td>0.0</td>\n",
       "      <td>0.0</td>\n",
       "    </tr>\n",
       "    <tr>\n",
       "      <th>3</th>\n",
       "      <td>6.0</td>\n",
       "      <td>141.0</td>\n",
       "    </tr>\n",
       "  </tbody>\n",
       "</table>\n",
       "</div>"
      ],
      "text/plain": [
       "   Covid_Admissions  Confirmed_Cases\n",
       "2               0.0              0.0\n",
       "3               6.0            141.0"
      ]
     },
     "execution_count": 23,
     "metadata": {},
     "output_type": "execute_result"
    }
   ],
   "source": [
    "# Middle subset of rows and columns\n",
    "covid_df.iloc[2:4, 2:4]"
   ]
  },
  {
   "cell_type": "markdown",
   "metadata": {},
   "source": [
    "__Selection using `.loc`__\n",
    "\n",
    "`.loc` is used for label-based indexing by specifying index and column names."
   ]
  },
  {
   "cell_type": "markdown",
   "metadata": {},
   "source": [
    "##### Select columns from Provider State until All deaths"
   ]
  },
  {
   "cell_type": "code",
   "execution_count": 24,
   "metadata": {},
   "outputs": [
    {
     "data": {
      "text/html": [
       "<div>\n",
       "<style scoped>\n",
       "    .dataframe tbody tr th:only-of-type {\n",
       "        vertical-align: middle;\n",
       "    }\n",
       "\n",
       "    .dataframe tbody tr th {\n",
       "        vertical-align: top;\n",
       "    }\n",
       "\n",
       "    .dataframe thead th {\n",
       "        text-align: right;\n",
       "    }\n",
       "</style>\n",
       "<table border=\"1\" class=\"dataframe\">\n",
       "  <thead>\n",
       "    <tr style=\"text-align: right;\">\n",
       "      <th></th>\n",
       "      <th>Provide_State</th>\n",
       "      <th>Covid_Admissions</th>\n",
       "      <th>Confirmed_Cases</th>\n",
       "      <th>Suspected_Cases</th>\n",
       "      <th>All_Deaths</th>\n",
       "    </tr>\n",
       "  </thead>\n",
       "  <tbody>\n",
       "    <tr>\n",
       "      <th>0</th>\n",
       "      <td>IL</td>\n",
       "      <td>5.0</td>\n",
       "      <td>56.0</td>\n",
       "      <td>10.0</td>\n",
       "      <td>15.0</td>\n",
       "    </tr>\n",
       "    <tr>\n",
       "      <th>1</th>\n",
       "      <td>IN</td>\n",
       "      <td>0.0</td>\n",
       "      <td>0.0</td>\n",
       "      <td>0.0</td>\n",
       "      <td>0.0</td>\n",
       "    </tr>\n",
       "    <tr>\n",
       "      <th>2</th>\n",
       "      <td>IL</td>\n",
       "      <td>0.0</td>\n",
       "      <td>0.0</td>\n",
       "      <td>0.0</td>\n",
       "      <td>0.0</td>\n",
       "    </tr>\n",
       "    <tr>\n",
       "      <th>3</th>\n",
       "      <td>IL</td>\n",
       "      <td>6.0</td>\n",
       "      <td>141.0</td>\n",
       "      <td>3.0</td>\n",
       "      <td>0.0</td>\n",
       "    </tr>\n",
       "    <tr>\n",
       "      <th>4</th>\n",
       "      <td>IL</td>\n",
       "      <td>19.0</td>\n",
       "      <td>75.0</td>\n",
       "      <td>0.0</td>\n",
       "      <td>43.0</td>\n",
       "    </tr>\n",
       "    <tr>\n",
       "      <th>...</th>\n",
       "      <td>...</td>\n",
       "      <td>...</td>\n",
       "      <td>...</td>\n",
       "      <td>...</td>\n",
       "      <td>...</td>\n",
       "    </tr>\n",
       "    <tr>\n",
       "      <th>85</th>\n",
       "      <td>IL</td>\n",
       "      <td>NaN</td>\n",
       "      <td>4.0</td>\n",
       "      <td>0.0</td>\n",
       "      <td>19.0</td>\n",
       "    </tr>\n",
       "    <tr>\n",
       "      <th>86</th>\n",
       "      <td>IN</td>\n",
       "      <td>NaN</td>\n",
       "      <td>0.0</td>\n",
       "      <td>0.0</td>\n",
       "      <td>1.0</td>\n",
       "    </tr>\n",
       "    <tr>\n",
       "      <th>87</th>\n",
       "      <td>IL</td>\n",
       "      <td>3.0</td>\n",
       "      <td>0.0</td>\n",
       "      <td>0.0</td>\n",
       "      <td>0.0</td>\n",
       "    </tr>\n",
       "    <tr>\n",
       "      <th>88</th>\n",
       "      <td>IN</td>\n",
       "      <td>0.0</td>\n",
       "      <td>2.0</td>\n",
       "      <td>1.0</td>\n",
       "      <td>7.0</td>\n",
       "    </tr>\n",
       "    <tr>\n",
       "      <th>89</th>\n",
       "      <td>IN</td>\n",
       "      <td>4.0</td>\n",
       "      <td>0.0</td>\n",
       "      <td>0.0</td>\n",
       "      <td>7.0</td>\n",
       "    </tr>\n",
       "  </tbody>\n",
       "</table>\n",
       "<p>90 rows × 5 columns</p>\n",
       "</div>"
      ],
      "text/plain": [
       "   Provide_State  Covid_Admissions  Confirmed_Cases  Suspected_Cases  \\\n",
       "0             IL               5.0             56.0             10.0   \n",
       "1             IN               0.0              0.0              0.0   \n",
       "2             IL               0.0              0.0              0.0   \n",
       "3             IL               6.0            141.0              3.0   \n",
       "4             IL              19.0             75.0              0.0   \n",
       "..           ...               ...              ...              ...   \n",
       "85            IL               NaN              4.0              0.0   \n",
       "86            IN               NaN              0.0              0.0   \n",
       "87            IL               3.0              0.0              0.0   \n",
       "88            IN               0.0              2.0              1.0   \n",
       "89            IN               4.0              0.0              0.0   \n",
       "\n",
       "    All_Deaths  \n",
       "0         15.0  \n",
       "1          0.0  \n",
       "2          0.0  \n",
       "3          0.0  \n",
       "4         43.0  \n",
       "..         ...  \n",
       "85        19.0  \n",
       "86         1.0  \n",
       "87         0.0  \n",
       "88         7.0  \n",
       "89         7.0  \n",
       "\n",
       "[90 rows x 5 columns]"
      ]
     },
     "execution_count": 24,
     "metadata": {},
     "output_type": "execute_result"
    }
   ],
   "source": [
    "# Select columns from state until all deaths\n",
    "covid_df.loc[:, 'Provide_State':'All_Deaths']"
   ]
  },
  {
   "cell_type": "markdown",
   "metadata": {},
   "source": [
    "#### Conditional Selection using `query()`"
   ]
  },
  {
   "cell_type": "markdown",
   "metadata": {},
   "source": [
    "`query()`\n",
    "- select elements of a `DataFrame` that satisfy some condition. \n",
    "    - e.g. Covid cases > 70\n",
    "- uses string expressions.\n",
    "- similar to the ‘where’ clause in SQL.\n",
    "- offers more efficient computation and memory use than pure python operations."
   ]
  },
  {
   "cell_type": "code",
   "execution_count": 25,
   "metadata": {},
   "outputs": [
    {
     "data": {
      "text/html": [
       "<div>\n",
       "<style scoped>\n",
       "    .dataframe tbody tr th:only-of-type {\n",
       "        vertical-align: middle;\n",
       "    }\n",
       "\n",
       "    .dataframe tbody tr th {\n",
       "        vertical-align: top;\n",
       "    }\n",
       "\n",
       "    .dataframe thead th {\n",
       "        text-align: right;\n",
       "    }\n",
       "</style>\n",
       "<table border=\"1\" class=\"dataframe\">\n",
       "  <thead>\n",
       "    <tr style=\"text-align: right;\">\n",
       "      <th></th>\n",
       "      <th>Provider_City</th>\n",
       "      <th>Provide_State</th>\n",
       "      <th>Covid_Admissions</th>\n",
       "      <th>Confirmed_Cases</th>\n",
       "      <th>Suspected_Cases</th>\n",
       "      <th>All_Deaths</th>\n",
       "      <th>COVID-19_Deaths</th>\n",
       "    </tr>\n",
       "  </thead>\n",
       "  <tbody>\n",
       "    <tr>\n",
       "      <th>0</th>\n",
       "      <td>NILES</td>\n",
       "      <td>IL</td>\n",
       "      <td>5.0</td>\n",
       "      <td>56.0</td>\n",
       "      <td>10.0</td>\n",
       "      <td>15.0</td>\n",
       "      <td>12.0</td>\n",
       "    </tr>\n",
       "    <tr>\n",
       "      <th>1</th>\n",
       "      <td>DUNKIRK</td>\n",
       "      <td>IN</td>\n",
       "      <td>0.0</td>\n",
       "      <td>0.0</td>\n",
       "      <td>0.0</td>\n",
       "      <td>0.0</td>\n",
       "      <td>0.0</td>\n",
       "    </tr>\n",
       "    <tr>\n",
       "      <th>2</th>\n",
       "      <td>MARION</td>\n",
       "      <td>IL</td>\n",
       "      <td>0.0</td>\n",
       "      <td>0.0</td>\n",
       "      <td>0.0</td>\n",
       "      <td>0.0</td>\n",
       "      <td>0.0</td>\n",
       "    </tr>\n",
       "    <tr>\n",
       "      <th>3</th>\n",
       "      <td>LONG GROVE</td>\n",
       "      <td>IL</td>\n",
       "      <td>6.0</td>\n",
       "      <td>141.0</td>\n",
       "      <td>3.0</td>\n",
       "      <td>0.0</td>\n",
       "      <td>0.0</td>\n",
       "    </tr>\n",
       "    <tr>\n",
       "      <th>4</th>\n",
       "      <td>CHICAGO</td>\n",
       "      <td>IL</td>\n",
       "      <td>19.0</td>\n",
       "      <td>75.0</td>\n",
       "      <td>0.0</td>\n",
       "      <td>43.0</td>\n",
       "      <td>16.0</td>\n",
       "    </tr>\n",
       "  </tbody>\n",
       "</table>\n",
       "</div>"
      ],
      "text/plain": [
       "  Provider_City Provide_State  Covid_Admissions  Confirmed_Cases  \\\n",
       "0         NILES            IL               5.0             56.0   \n",
       "1       DUNKIRK            IN               0.0              0.0   \n",
       "2        MARION            IL               0.0              0.0   \n",
       "3    LONG GROVE            IL               6.0            141.0   \n",
       "4       CHICAGO            IL              19.0             75.0   \n",
       "\n",
       "   Suspected_Cases  All_Deaths  COVID-19_Deaths  \n",
       "0             10.0        15.0             12.0  \n",
       "1              0.0         0.0              0.0  \n",
       "2              0.0         0.0              0.0  \n",
       "3              3.0         0.0              0.0  \n",
       "4              0.0        43.0             16.0  "
      ]
     },
     "execution_count": 25,
     "metadata": {},
     "output_type": "execute_result"
    }
   ],
   "source": [
    "# Check data\n",
    "covid_df.head()"
   ]
  },
  {
   "cell_type": "markdown",
   "metadata": {},
   "source": [
    "##### Single Condition\n",
    "\n",
    "Condition: Confirmed cases > 70"
   ]
  },
  {
   "cell_type": "code",
   "execution_count": 26,
   "metadata": {},
   "outputs": [
    {
     "data": {
      "text/html": [
       "<div>\n",
       "<style scoped>\n",
       "    .dataframe tbody tr th:only-of-type {\n",
       "        vertical-align: middle;\n",
       "    }\n",
       "\n",
       "    .dataframe tbody tr th {\n",
       "        vertical-align: top;\n",
       "    }\n",
       "\n",
       "    .dataframe thead th {\n",
       "        text-align: right;\n",
       "    }\n",
       "</style>\n",
       "<table border=\"1\" class=\"dataframe\">\n",
       "  <thead>\n",
       "    <tr style=\"text-align: right;\">\n",
       "      <th></th>\n",
       "      <th>Provider_City</th>\n",
       "      <th>Provide_State</th>\n",
       "      <th>Covid_Admissions</th>\n",
       "      <th>Confirmed_Cases</th>\n",
       "      <th>Suspected_Cases</th>\n",
       "      <th>All_Deaths</th>\n",
       "      <th>COVID-19_Deaths</th>\n",
       "    </tr>\n",
       "  </thead>\n",
       "  <tbody>\n",
       "    <tr>\n",
       "      <th>3</th>\n",
       "      <td>LONG GROVE</td>\n",
       "      <td>IL</td>\n",
       "      <td>6.0</td>\n",
       "      <td>141.0</td>\n",
       "      <td>3.0</td>\n",
       "      <td>0.0</td>\n",
       "      <td>0.0</td>\n",
       "    </tr>\n",
       "    <tr>\n",
       "      <th>4</th>\n",
       "      <td>CHICAGO</td>\n",
       "      <td>IL</td>\n",
       "      <td>19.0</td>\n",
       "      <td>75.0</td>\n",
       "      <td>0.0</td>\n",
       "      <td>43.0</td>\n",
       "      <td>16.0</td>\n",
       "    </tr>\n",
       "    <tr>\n",
       "      <th>31</th>\n",
       "      <td>NORTHBROOK</td>\n",
       "      <td>IL</td>\n",
       "      <td>5.0</td>\n",
       "      <td>75.0</td>\n",
       "      <td>23.0</td>\n",
       "      <td>43.0</td>\n",
       "      <td>19.0</td>\n",
       "    </tr>\n",
       "    <tr>\n",
       "      <th>62</th>\n",
       "      <td>BRIDGEVIEW</td>\n",
       "      <td>IL</td>\n",
       "      <td>3.0</td>\n",
       "      <td>132.0</td>\n",
       "      <td>20.0</td>\n",
       "      <td>16.0</td>\n",
       "      <td>16.0</td>\n",
       "    </tr>\n",
       "    <tr>\n",
       "      <th>72</th>\n",
       "      <td>BLOOMINGTON</td>\n",
       "      <td>IN</td>\n",
       "      <td>1.0</td>\n",
       "      <td>74.0</td>\n",
       "      <td>34.0</td>\n",
       "      <td>10.0</td>\n",
       "      <td>0.0</td>\n",
       "    </tr>\n",
       "  </tbody>\n",
       "</table>\n",
       "</div>"
      ],
      "text/plain": [
       "   Provider_City Provide_State  Covid_Admissions  Confirmed_Cases  \\\n",
       "3     LONG GROVE            IL               6.0            141.0   \n",
       "4        CHICAGO            IL              19.0             75.0   \n",
       "31    NORTHBROOK            IL               5.0             75.0   \n",
       "62    BRIDGEVIEW            IL               3.0            132.0   \n",
       "72   BLOOMINGTON            IN               1.0             74.0   \n",
       "\n",
       "    Suspected_Cases  All_Deaths  COVID-19_Deaths  \n",
       "3               3.0         0.0              0.0  \n",
       "4               0.0        43.0             16.0  \n",
       "31             23.0        43.0             19.0  \n",
       "62             20.0        16.0             16.0  \n",
       "72             34.0        10.0              0.0  "
      ]
     },
     "execution_count": 26,
     "metadata": {},
     "output_type": "execute_result"
    }
   ],
   "source": [
    "# Condition: Covid cases > 70\n",
    "covid_df.query('Confirmed_Cases > 70')"
   ]
  },
  {
   "cell_type": "markdown",
   "metadata": {},
   "source": [
    "##### Multiple Conditions\n",
    "Condition: Confirmed cases > 70 and covid deaths > 15"
   ]
  },
  {
   "cell_type": "code",
   "execution_count": 27,
   "metadata": {},
   "outputs": [
    {
     "data": {
      "text/html": [
       "<div>\n",
       "<style scoped>\n",
       "    .dataframe tbody tr th:only-of-type {\n",
       "        vertical-align: middle;\n",
       "    }\n",
       "\n",
       "    .dataframe tbody tr th {\n",
       "        vertical-align: top;\n",
       "    }\n",
       "\n",
       "    .dataframe thead th {\n",
       "        text-align: right;\n",
       "    }\n",
       "</style>\n",
       "<table border=\"1\" class=\"dataframe\">\n",
       "  <thead>\n",
       "    <tr style=\"text-align: right;\">\n",
       "      <th></th>\n",
       "      <th>Provider_City</th>\n",
       "      <th>Provide_State</th>\n",
       "      <th>Covid_Admissions</th>\n",
       "      <th>Confirmed_Cases</th>\n",
       "      <th>Suspected_Cases</th>\n",
       "      <th>All_Deaths</th>\n",
       "      <th>COVID-19_Deaths</th>\n",
       "    </tr>\n",
       "  </thead>\n",
       "  <tbody>\n",
       "    <tr>\n",
       "      <th>4</th>\n",
       "      <td>CHICAGO</td>\n",
       "      <td>IL</td>\n",
       "      <td>19.0</td>\n",
       "      <td>75.0</td>\n",
       "      <td>0.0</td>\n",
       "      <td>43.0</td>\n",
       "      <td>16.0</td>\n",
       "    </tr>\n",
       "    <tr>\n",
       "      <th>31</th>\n",
       "      <td>NORTHBROOK</td>\n",
       "      <td>IL</td>\n",
       "      <td>5.0</td>\n",
       "      <td>75.0</td>\n",
       "      <td>23.0</td>\n",
       "      <td>43.0</td>\n",
       "      <td>19.0</td>\n",
       "    </tr>\n",
       "    <tr>\n",
       "      <th>62</th>\n",
       "      <td>BRIDGEVIEW</td>\n",
       "      <td>IL</td>\n",
       "      <td>3.0</td>\n",
       "      <td>132.0</td>\n",
       "      <td>20.0</td>\n",
       "      <td>16.0</td>\n",
       "      <td>16.0</td>\n",
       "    </tr>\n",
       "  </tbody>\n",
       "</table>\n",
       "</div>"
      ],
      "text/plain": [
       "   Provider_City Provide_State  Covid_Admissions  Confirmed_Cases  \\\n",
       "4        CHICAGO            IL              19.0             75.0   \n",
       "31    NORTHBROOK            IL               5.0             75.0   \n",
       "62    BRIDGEVIEW            IL               3.0            132.0   \n",
       "\n",
       "    Suspected_Cases  All_Deaths  COVID-19_Deaths  \n",
       "4               0.0        43.0             16.0  \n",
       "31             23.0        43.0             19.0  \n",
       "62             20.0        16.0             16.0  "
      ]
     },
     "execution_count": 27,
     "metadata": {},
     "output_type": "execute_result"
    }
   ],
   "source": [
    "# Condition: cases > 70 and deaths > 15\n",
    "covid_df.query('(Confirmed_Cases > 70) and (`COVID-19_Deaths` > 15)')"
   ]
  },
  {
   "cell_type": "markdown",
   "metadata": {},
   "source": [
    "### Operating on DataFrames"
   ]
  },
  {
   "cell_type": "markdown",
   "metadata": {},
   "source": [
    "#### Combining Data"
   ]
  },
  {
   "cell_type": "markdown",
   "metadata": {},
   "source": [
    "Data science workflows often involve combining data from different sources to enhance the analysis. \n",
    "\n",
    "- [pandas.merge()](https://pandas.pydata.org/pandas-docs/stable/user_guide/merging.html) - joins rows in DataFrames based on one or more keys. \n",
    "- Works as the entry point for all standard database join operations between `DataFrame` or `Series` objects."
   ]
  },
  {
   "cell_type": "markdown",
   "metadata": {},
   "source": [
    "__Dataset 2:__ Dataset for number of beds at these facilities."
   ]
  },
  {
   "cell_type": "code",
   "execution_count": 28,
   "metadata": {},
   "outputs": [
    {
     "data": {
      "text/plain": [
       "(90, 6)"
      ]
     },
     "metadata": {},
     "output_type": "display_data"
    },
    {
     "data": {
      "text/html": [
       "<div>\n",
       "<style scoped>\n",
       "    .dataframe tbody tr th:only-of-type {\n",
       "        vertical-align: middle;\n",
       "    }\n",
       "\n",
       "    .dataframe tbody tr th {\n",
       "        vertical-align: top;\n",
       "    }\n",
       "\n",
       "    .dataframe thead th {\n",
       "        text-align: right;\n",
       "    }\n",
       "</style>\n",
       "<table border=\"1\" class=\"dataframe\">\n",
       "  <thead>\n",
       "    <tr style=\"text-align: right;\">\n",
       "      <th></th>\n",
       "      <th>City</th>\n",
       "      <th>State</th>\n",
       "      <th>All Beds</th>\n",
       "      <th>Occupied Beds</th>\n",
       "      <th>LONGITUDE</th>\n",
       "      <th>LATITUDE</th>\n",
       "    </tr>\n",
       "  </thead>\n",
       "  <tbody>\n",
       "    <tr>\n",
       "      <th>0</th>\n",
       "      <td>NILES</td>\n",
       "      <td>IL</td>\n",
       "      <td>99.0</td>\n",
       "      <td>61.0</td>\n",
       "      <td>-87.792973</td>\n",
       "      <td>42.012012</td>\n",
       "    </tr>\n",
       "    <tr>\n",
       "      <th>1</th>\n",
       "      <td>DUNKIRK</td>\n",
       "      <td>IN</td>\n",
       "      <td>46.0</td>\n",
       "      <td>43.0</td>\n",
       "      <td>-85.197651</td>\n",
       "      <td>40.392722</td>\n",
       "    </tr>\n",
       "    <tr>\n",
       "      <th>2</th>\n",
       "      <td>MARION</td>\n",
       "      <td>IL</td>\n",
       "      <td>131.0</td>\n",
       "      <td>84.0</td>\n",
       "      <td>-88.982944</td>\n",
       "      <td>37.750143</td>\n",
       "    </tr>\n",
       "    <tr>\n",
       "      <th>3</th>\n",
       "      <td>LONG GROVE</td>\n",
       "      <td>IL</td>\n",
       "      <td>195.0</td>\n",
       "      <td>131.0</td>\n",
       "      <td>-87.986442</td>\n",
       "      <td>42.160843</td>\n",
       "    </tr>\n",
       "    <tr>\n",
       "      <th>4</th>\n",
       "      <td>CHICAGO</td>\n",
       "      <td>IL</td>\n",
       "      <td>180.0</td>\n",
       "      <td>116.0</td>\n",
       "      <td>-87.726353</td>\n",
       "      <td>41.975505</td>\n",
       "    </tr>\n",
       "  </tbody>\n",
       "</table>\n",
       "</div>"
      ],
      "text/plain": [
       "         City State  All Beds  Occupied Beds  LONGITUDE   LATITUDE\n",
       "0       NILES    IL      99.0           61.0 -87.792973  42.012012\n",
       "1     DUNKIRK    IN      46.0           43.0 -85.197651  40.392722\n",
       "2      MARION    IL     131.0           84.0 -88.982944  37.750143\n",
       "3  LONG GROVE    IL     195.0          131.0 -87.986442  42.160843\n",
       "4     CHICAGO    IL     180.0          116.0 -87.726353  41.975505"
      ]
     },
     "metadata": {},
     "output_type": "display_data"
    }
   ],
   "source": [
    "# Read beds data\n",
    "beds_df = pd.read_csv('sample_cms_beds.csv')\n",
    "display(beds_df.shape)\n",
    "display(beds_df.head())"
   ]
  },
  {
   "cell_type": "code",
   "execution_count": 29,
   "metadata": {},
   "outputs": [
    {
     "data": {
      "text/plain": [
       "(90, 7)"
      ]
     },
     "metadata": {},
     "output_type": "display_data"
    },
    {
     "data": {
      "text/html": [
       "<div>\n",
       "<style scoped>\n",
       "    .dataframe tbody tr th:only-of-type {\n",
       "        vertical-align: middle;\n",
       "    }\n",
       "\n",
       "    .dataframe tbody tr th {\n",
       "        vertical-align: top;\n",
       "    }\n",
       "\n",
       "    .dataframe thead th {\n",
       "        text-align: right;\n",
       "    }\n",
       "</style>\n",
       "<table border=\"1\" class=\"dataframe\">\n",
       "  <thead>\n",
       "    <tr style=\"text-align: right;\">\n",
       "      <th></th>\n",
       "      <th>Provider_City</th>\n",
       "      <th>Provide_State</th>\n",
       "      <th>Covid_Admissions</th>\n",
       "      <th>Confirmed_Cases</th>\n",
       "      <th>Suspected_Cases</th>\n",
       "      <th>All_Deaths</th>\n",
       "      <th>COVID-19_Deaths</th>\n",
       "    </tr>\n",
       "  </thead>\n",
       "  <tbody>\n",
       "    <tr>\n",
       "      <th>0</th>\n",
       "      <td>NILES</td>\n",
       "      <td>IL</td>\n",
       "      <td>5.0</td>\n",
       "      <td>56.0</td>\n",
       "      <td>10.0</td>\n",
       "      <td>15.0</td>\n",
       "      <td>12.0</td>\n",
       "    </tr>\n",
       "    <tr>\n",
       "      <th>1</th>\n",
       "      <td>DUNKIRK</td>\n",
       "      <td>IN</td>\n",
       "      <td>0.0</td>\n",
       "      <td>0.0</td>\n",
       "      <td>0.0</td>\n",
       "      <td>0.0</td>\n",
       "      <td>0.0</td>\n",
       "    </tr>\n",
       "    <tr>\n",
       "      <th>2</th>\n",
       "      <td>MARION</td>\n",
       "      <td>IL</td>\n",
       "      <td>0.0</td>\n",
       "      <td>0.0</td>\n",
       "      <td>0.0</td>\n",
       "      <td>0.0</td>\n",
       "      <td>0.0</td>\n",
       "    </tr>\n",
       "    <tr>\n",
       "      <th>3</th>\n",
       "      <td>LONG GROVE</td>\n",
       "      <td>IL</td>\n",
       "      <td>6.0</td>\n",
       "      <td>141.0</td>\n",
       "      <td>3.0</td>\n",
       "      <td>0.0</td>\n",
       "      <td>0.0</td>\n",
       "    </tr>\n",
       "    <tr>\n",
       "      <th>4</th>\n",
       "      <td>CHICAGO</td>\n",
       "      <td>IL</td>\n",
       "      <td>19.0</td>\n",
       "      <td>75.0</td>\n",
       "      <td>0.0</td>\n",
       "      <td>43.0</td>\n",
       "      <td>16.0</td>\n",
       "    </tr>\n",
       "  </tbody>\n",
       "</table>\n",
       "</div>"
      ],
      "text/plain": [
       "  Provider_City Provide_State  Covid_Admissions  Confirmed_Cases  \\\n",
       "0         NILES            IL               5.0             56.0   \n",
       "1       DUNKIRK            IN               0.0              0.0   \n",
       "2        MARION            IL               0.0              0.0   \n",
       "3    LONG GROVE            IL               6.0            141.0   \n",
       "4       CHICAGO            IL              19.0             75.0   \n",
       "\n",
       "   Suspected_Cases  All_Deaths  COVID-19_Deaths  \n",
       "0             10.0        15.0             12.0  \n",
       "1              0.0         0.0              0.0  \n",
       "2              0.0         0.0              0.0  \n",
       "3              3.0         0.0              0.0  \n",
       "4              0.0        43.0             16.0  "
      ]
     },
     "metadata": {},
     "output_type": "display_data"
    }
   ],
   "source": [
    "# Check Covid data\n",
    "display(covid_df.shape)\n",
    "display(covid_df.head())"
   ]
  },
  {
   "cell_type": "code",
   "execution_count": 30,
   "metadata": {},
   "outputs": [],
   "source": [
    "# Merge with column names and join type\n",
    "covid_df = pd.merge(covid_df, beds_df, \n",
    "                    left_on=['Provider_City','Provide_State'],\n",
    "                    right_on=['City','State'],\n",
    "                    how='inner')"
   ]
  },
  {
   "cell_type": "code",
   "execution_count": 31,
   "metadata": {},
   "outputs": [
    {
     "data": {
      "text/plain": [
       "(90, 13)"
      ]
     },
     "metadata": {},
     "output_type": "display_data"
    },
    {
     "data": {
      "text/plain": [
       "Index(['Provider_City', 'Provide_State', 'Covid_Admissions', 'Confirmed_Cases',\n",
       "       'Suspected_Cases', 'All_Deaths', 'COVID-19_Deaths', 'City', 'State',\n",
       "       'All Beds', 'Occupied Beds', 'LONGITUDE', 'LATITUDE'],\n",
       "      dtype='object')"
      ]
     },
     "metadata": {},
     "output_type": "display_data"
    }
   ],
   "source": [
    "# Disply shape and head of data\n",
    "display(covid_df.shape)\n",
    "display(covid_df.columns)"
   ]
  },
  {
   "cell_type": "markdown",
   "metadata": {},
   "source": [
    "#### Dropping Data\n",
    "`drop()` function comes in handy when cleaning your data to drop rows and columns."
   ]
  },
  {
   "cell_type": "code",
   "execution_count": 32,
   "metadata": {},
   "outputs": [
    {
     "data": {
      "text/html": [
       "<div>\n",
       "<style scoped>\n",
       "    .dataframe tbody tr th:only-of-type {\n",
       "        vertical-align: middle;\n",
       "    }\n",
       "\n",
       "    .dataframe tbody tr th {\n",
       "        vertical-align: top;\n",
       "    }\n",
       "\n",
       "    .dataframe thead th {\n",
       "        text-align: right;\n",
       "    }\n",
       "</style>\n",
       "<table border=\"1\" class=\"dataframe\">\n",
       "  <thead>\n",
       "    <tr style=\"text-align: right;\">\n",
       "      <th></th>\n",
       "      <th>Provider_City</th>\n",
       "      <th>Provide_State</th>\n",
       "      <th>Covid_Admissions</th>\n",
       "      <th>Confirmed_Cases</th>\n",
       "      <th>Suspected_Cases</th>\n",
       "      <th>All_Deaths</th>\n",
       "      <th>COVID-19_Deaths</th>\n",
       "      <th>All Beds</th>\n",
       "      <th>Occupied Beds</th>\n",
       "      <th>LONGITUDE</th>\n",
       "      <th>LATITUDE</th>\n",
       "    </tr>\n",
       "  </thead>\n",
       "  <tbody>\n",
       "    <tr>\n",
       "      <th>0</th>\n",
       "      <td>NILES</td>\n",
       "      <td>IL</td>\n",
       "      <td>5.0</td>\n",
       "      <td>56.0</td>\n",
       "      <td>10.0</td>\n",
       "      <td>15.0</td>\n",
       "      <td>12.0</td>\n",
       "      <td>99.0</td>\n",
       "      <td>61.0</td>\n",
       "      <td>-87.792973</td>\n",
       "      <td>42.012012</td>\n",
       "    </tr>\n",
       "    <tr>\n",
       "      <th>1</th>\n",
       "      <td>DUNKIRK</td>\n",
       "      <td>IN</td>\n",
       "      <td>0.0</td>\n",
       "      <td>0.0</td>\n",
       "      <td>0.0</td>\n",
       "      <td>0.0</td>\n",
       "      <td>0.0</td>\n",
       "      <td>46.0</td>\n",
       "      <td>43.0</td>\n",
       "      <td>-85.197651</td>\n",
       "      <td>40.392722</td>\n",
       "    </tr>\n",
       "    <tr>\n",
       "      <th>2</th>\n",
       "      <td>MARION</td>\n",
       "      <td>IL</td>\n",
       "      <td>0.0</td>\n",
       "      <td>0.0</td>\n",
       "      <td>0.0</td>\n",
       "      <td>0.0</td>\n",
       "      <td>0.0</td>\n",
       "      <td>131.0</td>\n",
       "      <td>84.0</td>\n",
       "      <td>-88.982944</td>\n",
       "      <td>37.750143</td>\n",
       "    </tr>\n",
       "    <tr>\n",
       "      <th>3</th>\n",
       "      <td>LONG GROVE</td>\n",
       "      <td>IL</td>\n",
       "      <td>6.0</td>\n",
       "      <td>141.0</td>\n",
       "      <td>3.0</td>\n",
       "      <td>0.0</td>\n",
       "      <td>0.0</td>\n",
       "      <td>195.0</td>\n",
       "      <td>131.0</td>\n",
       "      <td>-87.986442</td>\n",
       "      <td>42.160843</td>\n",
       "    </tr>\n",
       "    <tr>\n",
       "      <th>4</th>\n",
       "      <td>CHICAGO</td>\n",
       "      <td>IL</td>\n",
       "      <td>19.0</td>\n",
       "      <td>75.0</td>\n",
       "      <td>0.0</td>\n",
       "      <td>43.0</td>\n",
       "      <td>16.0</td>\n",
       "      <td>180.0</td>\n",
       "      <td>116.0</td>\n",
       "      <td>-87.726353</td>\n",
       "      <td>41.975505</td>\n",
       "    </tr>\n",
       "  </tbody>\n",
       "</table>\n",
       "</div>"
      ],
      "text/plain": [
       "  Provider_City Provide_State  Covid_Admissions  Confirmed_Cases  \\\n",
       "0         NILES            IL               5.0             56.0   \n",
       "1       DUNKIRK            IN               0.0              0.0   \n",
       "2        MARION            IL               0.0              0.0   \n",
       "3    LONG GROVE            IL               6.0            141.0   \n",
       "4       CHICAGO            IL              19.0             75.0   \n",
       "\n",
       "   Suspected_Cases  All_Deaths  COVID-19_Deaths  All Beds  Occupied Beds  \\\n",
       "0             10.0        15.0             12.0      99.0           61.0   \n",
       "1              0.0         0.0              0.0      46.0           43.0   \n",
       "2              0.0         0.0              0.0     131.0           84.0   \n",
       "3              3.0         0.0              0.0     195.0          131.0   \n",
       "4              0.0        43.0             16.0     180.0          116.0   \n",
       "\n",
       "   LONGITUDE   LATITUDE  \n",
       "0 -87.792973  42.012012  \n",
       "1 -85.197651  40.392722  \n",
       "2 -88.982944  37.750143  \n",
       "3 -87.986442  42.160843  \n",
       "4 -87.726353  41.975505  "
      ]
     },
     "execution_count": 32,
     "metadata": {},
     "output_type": "execute_result"
    }
   ],
   "source": [
    "# Drop columns\n",
    "covid_df.drop(['City','State'], axis='columns', inplace=True)\n",
    "covid_df.head()"
   ]
  },
  {
   "cell_type": "markdown",
   "metadata": {
    "heading_collapsed": true
   },
   "source": [
    "#### Quick Summary\n",
    "- Navigating a DataFrame\n",
    "    - selection using .loc, .iloc and query()\n",
    "- Operating on a DataFrame\n",
    "    - combine data using marge()\n",
    "    - drop data"
   ]
  },
  {
   "cell_type": "markdown",
   "metadata": {},
   "source": [
    "### Working with Missing Data"
   ]
  },
  {
   "cell_type": "markdown",
   "metadata": {},
   "source": [
    "- Real world data in rarely clean. \n",
    "- Referred to as _Null, NaN, or NA values_. \n",
    "- Various methods for detecting, removing, and replacing null values."
   ]
  },
  {
   "cell_type": "markdown",
   "metadata": {},
   "source": [
    "#### Detect Missing Data\n",
    "\n",
    "`isnull()` - used to detect and filter missing data."
   ]
  },
  {
   "cell_type": "code",
   "execution_count": 33,
   "metadata": {},
   "outputs": [
    {
     "data": {
      "text/html": [
       "<div>\n",
       "<style scoped>\n",
       "    .dataframe tbody tr th:only-of-type {\n",
       "        vertical-align: middle;\n",
       "    }\n",
       "\n",
       "    .dataframe tbody tr th {\n",
       "        vertical-align: top;\n",
       "    }\n",
       "\n",
       "    .dataframe thead th {\n",
       "        text-align: right;\n",
       "    }\n",
       "</style>\n",
       "<table border=\"1\" class=\"dataframe\">\n",
       "  <thead>\n",
       "    <tr style=\"text-align: right;\">\n",
       "      <th></th>\n",
       "      <th>Provider_City</th>\n",
       "      <th>Provide_State</th>\n",
       "      <th>Covid_Admissions</th>\n",
       "      <th>Confirmed_Cases</th>\n",
       "      <th>Suspected_Cases</th>\n",
       "      <th>All_Deaths</th>\n",
       "      <th>COVID-19_Deaths</th>\n",
       "      <th>All Beds</th>\n",
       "      <th>Occupied Beds</th>\n",
       "      <th>LONGITUDE</th>\n",
       "      <th>LATITUDE</th>\n",
       "    </tr>\n",
       "  </thead>\n",
       "  <tbody>\n",
       "    <tr>\n",
       "      <th>0</th>\n",
       "      <td>False</td>\n",
       "      <td>False</td>\n",
       "      <td>False</td>\n",
       "      <td>False</td>\n",
       "      <td>False</td>\n",
       "      <td>False</td>\n",
       "      <td>False</td>\n",
       "      <td>False</td>\n",
       "      <td>False</td>\n",
       "      <td>False</td>\n",
       "      <td>False</td>\n",
       "    </tr>\n",
       "    <tr>\n",
       "      <th>1</th>\n",
       "      <td>False</td>\n",
       "      <td>False</td>\n",
       "      <td>False</td>\n",
       "      <td>False</td>\n",
       "      <td>False</td>\n",
       "      <td>False</td>\n",
       "      <td>False</td>\n",
       "      <td>False</td>\n",
       "      <td>False</td>\n",
       "      <td>False</td>\n",
       "      <td>False</td>\n",
       "    </tr>\n",
       "    <tr>\n",
       "      <th>2</th>\n",
       "      <td>False</td>\n",
       "      <td>False</td>\n",
       "      <td>False</td>\n",
       "      <td>False</td>\n",
       "      <td>False</td>\n",
       "      <td>False</td>\n",
       "      <td>False</td>\n",
       "      <td>False</td>\n",
       "      <td>False</td>\n",
       "      <td>False</td>\n",
       "      <td>False</td>\n",
       "    </tr>\n",
       "    <tr>\n",
       "      <th>3</th>\n",
       "      <td>False</td>\n",
       "      <td>False</td>\n",
       "      <td>False</td>\n",
       "      <td>False</td>\n",
       "      <td>False</td>\n",
       "      <td>False</td>\n",
       "      <td>False</td>\n",
       "      <td>False</td>\n",
       "      <td>False</td>\n",
       "      <td>False</td>\n",
       "      <td>False</td>\n",
       "    </tr>\n",
       "    <tr>\n",
       "      <th>4</th>\n",
       "      <td>False</td>\n",
       "      <td>False</td>\n",
       "      <td>False</td>\n",
       "      <td>False</td>\n",
       "      <td>False</td>\n",
       "      <td>False</td>\n",
       "      <td>False</td>\n",
       "      <td>False</td>\n",
       "      <td>False</td>\n",
       "      <td>False</td>\n",
       "      <td>False</td>\n",
       "    </tr>\n",
       "    <tr>\n",
       "      <th>...</th>\n",
       "      <td>...</td>\n",
       "      <td>...</td>\n",
       "      <td>...</td>\n",
       "      <td>...</td>\n",
       "      <td>...</td>\n",
       "      <td>...</td>\n",
       "      <td>...</td>\n",
       "      <td>...</td>\n",
       "      <td>...</td>\n",
       "      <td>...</td>\n",
       "      <td>...</td>\n",
       "    </tr>\n",
       "    <tr>\n",
       "      <th>85</th>\n",
       "      <td>False</td>\n",
       "      <td>False</td>\n",
       "      <td>True</td>\n",
       "      <td>False</td>\n",
       "      <td>False</td>\n",
       "      <td>False</td>\n",
       "      <td>False</td>\n",
       "      <td>False</td>\n",
       "      <td>False</td>\n",
       "      <td>False</td>\n",
       "      <td>False</td>\n",
       "    </tr>\n",
       "    <tr>\n",
       "      <th>86</th>\n",
       "      <td>False</td>\n",
       "      <td>False</td>\n",
       "      <td>True</td>\n",
       "      <td>False</td>\n",
       "      <td>False</td>\n",
       "      <td>False</td>\n",
       "      <td>False</td>\n",
       "      <td>True</td>\n",
       "      <td>False</td>\n",
       "      <td>False</td>\n",
       "      <td>False</td>\n",
       "    </tr>\n",
       "    <tr>\n",
       "      <th>87</th>\n",
       "      <td>False</td>\n",
       "      <td>False</td>\n",
       "      <td>False</td>\n",
       "      <td>False</td>\n",
       "      <td>False</td>\n",
       "      <td>False</td>\n",
       "      <td>False</td>\n",
       "      <td>False</td>\n",
       "      <td>False</td>\n",
       "      <td>False</td>\n",
       "      <td>False</td>\n",
       "    </tr>\n",
       "    <tr>\n",
       "      <th>88</th>\n",
       "      <td>False</td>\n",
       "      <td>False</td>\n",
       "      <td>False</td>\n",
       "      <td>False</td>\n",
       "      <td>False</td>\n",
       "      <td>False</td>\n",
       "      <td>False</td>\n",
       "      <td>False</td>\n",
       "      <td>False</td>\n",
       "      <td>False</td>\n",
       "      <td>False</td>\n",
       "    </tr>\n",
       "    <tr>\n",
       "      <th>89</th>\n",
       "      <td>False</td>\n",
       "      <td>False</td>\n",
       "      <td>False</td>\n",
       "      <td>False</td>\n",
       "      <td>False</td>\n",
       "      <td>False</td>\n",
       "      <td>False</td>\n",
       "      <td>False</td>\n",
       "      <td>False</td>\n",
       "      <td>False</td>\n",
       "      <td>False</td>\n",
       "    </tr>\n",
       "  </tbody>\n",
       "</table>\n",
       "<p>90 rows × 11 columns</p>\n",
       "</div>"
      ],
      "text/plain": [
       "    Provider_City  Provide_State  Covid_Admissions  Confirmed_Cases  \\\n",
       "0           False          False             False            False   \n",
       "1           False          False             False            False   \n",
       "2           False          False             False            False   \n",
       "3           False          False             False            False   \n",
       "4           False          False             False            False   \n",
       "..            ...            ...               ...              ...   \n",
       "85          False          False              True            False   \n",
       "86          False          False              True            False   \n",
       "87          False          False             False            False   \n",
       "88          False          False             False            False   \n",
       "89          False          False             False            False   \n",
       "\n",
       "    Suspected_Cases  All_Deaths  COVID-19_Deaths  All Beds  Occupied Beds  \\\n",
       "0             False       False            False     False          False   \n",
       "1             False       False            False     False          False   \n",
       "2             False       False            False     False          False   \n",
       "3             False       False            False     False          False   \n",
       "4             False       False            False     False          False   \n",
       "..              ...         ...              ...       ...            ...   \n",
       "85            False       False            False     False          False   \n",
       "86            False       False            False      True          False   \n",
       "87            False       False            False     False          False   \n",
       "88            False       False            False     False          False   \n",
       "89            False       False            False     False          False   \n",
       "\n",
       "    LONGITUDE  LATITUDE  \n",
       "0       False     False  \n",
       "1       False     False  \n",
       "2       False     False  \n",
       "3       False     False  \n",
       "4       False     False  \n",
       "..        ...       ...  \n",
       "85      False     False  \n",
       "86      False     False  \n",
       "87      False     False  \n",
       "88      False     False  \n",
       "89      False     False  \n",
       "\n",
       "[90 rows x 11 columns]"
      ]
     },
     "execution_count": 33,
     "metadata": {},
     "output_type": "execute_result"
    }
   ],
   "source": [
    "# Detect missing\n",
    "covid_df.isnull()"
   ]
  },
  {
   "cell_type": "markdown",
   "metadata": {},
   "source": [
    "The result shows a matrix of True or False values based on the presence of null values in data."
   ]
  },
  {
   "cell_type": "code",
   "execution_count": 34,
   "metadata": {},
   "outputs": [
    {
     "data": {
      "text/plain": [
       "Provider_City        0\n",
       "Provide_State        0\n",
       "Covid_Admissions     9\n",
       "Confirmed_Cases      4\n",
       "Suspected_Cases     11\n",
       "All_Deaths          10\n",
       "COVID-19_Deaths     10\n",
       "All Beds             3\n",
       "Occupied Beds        2\n",
       "LONGITUDE            0\n",
       "LATITUDE             0\n",
       "dtype: int64"
      ]
     },
     "execution_count": 34,
     "metadata": {},
     "output_type": "execute_result"
    }
   ],
   "source": [
    "# Check missing values in each column\n",
    "covid_df.isnull().sum()"
   ]
  },
  {
   "cell_type": "markdown",
   "metadata": {},
   "source": [
    "Seven columns have missing values."
   ]
  },
  {
   "cell_type": "code",
   "execution_count": 35,
   "metadata": {},
   "outputs": [
    {
     "data": {
      "text/plain": [
       "49"
      ]
     },
     "execution_count": 35,
     "metadata": {},
     "output_type": "execute_result"
    }
   ],
   "source": [
    "# Total Missing values in DataFrame\n",
    "covid_df.isnull().sum().sum()"
   ]
  },
  {
   "cell_type": "markdown",
   "metadata": {},
   "source": [
    "#### Drop Missing Data\n",
    "\n",
    "- `dropna()` drops any missing values from the data.\n",
    "- By default, rows in which any null value is present are dropped."
   ]
  },
  {
   "cell_type": "code",
   "execution_count": 36,
   "metadata": {},
   "outputs": [
    {
     "data": {
      "text/html": [
       "<div>\n",
       "<style scoped>\n",
       "    .dataframe tbody tr th:only-of-type {\n",
       "        vertical-align: middle;\n",
       "    }\n",
       "\n",
       "    .dataframe tbody tr th {\n",
       "        vertical-align: top;\n",
       "    }\n",
       "\n",
       "    .dataframe thead th {\n",
       "        text-align: right;\n",
       "    }\n",
       "</style>\n",
       "<table border=\"1\" class=\"dataframe\">\n",
       "  <thead>\n",
       "    <tr style=\"text-align: right;\">\n",
       "      <th></th>\n",
       "      <th>Provider_City</th>\n",
       "      <th>Provide_State</th>\n",
       "      <th>Covid_Admissions</th>\n",
       "      <th>Confirmed_Cases</th>\n",
       "      <th>Suspected_Cases</th>\n",
       "      <th>All_Deaths</th>\n",
       "      <th>COVID-19_Deaths</th>\n",
       "      <th>All Beds</th>\n",
       "      <th>Occupied Beds</th>\n",
       "      <th>LONGITUDE</th>\n",
       "      <th>LATITUDE</th>\n",
       "    </tr>\n",
       "  </thead>\n",
       "  <tbody>\n",
       "    <tr>\n",
       "      <th>0</th>\n",
       "      <td>NILES</td>\n",
       "      <td>IL</td>\n",
       "      <td>5.0</td>\n",
       "      <td>56.0</td>\n",
       "      <td>10.0</td>\n",
       "      <td>15.0</td>\n",
       "      <td>12.0</td>\n",
       "      <td>99.0</td>\n",
       "      <td>61.0</td>\n",
       "      <td>-87.792973</td>\n",
       "      <td>42.012012</td>\n",
       "    </tr>\n",
       "    <tr>\n",
       "      <th>1</th>\n",
       "      <td>DUNKIRK</td>\n",
       "      <td>IN</td>\n",
       "      <td>0.0</td>\n",
       "      <td>0.0</td>\n",
       "      <td>0.0</td>\n",
       "      <td>0.0</td>\n",
       "      <td>0.0</td>\n",
       "      <td>46.0</td>\n",
       "      <td>43.0</td>\n",
       "      <td>-85.197651</td>\n",
       "      <td>40.392722</td>\n",
       "    </tr>\n",
       "    <tr>\n",
       "      <th>2</th>\n",
       "      <td>MARION</td>\n",
       "      <td>IL</td>\n",
       "      <td>0.0</td>\n",
       "      <td>0.0</td>\n",
       "      <td>0.0</td>\n",
       "      <td>0.0</td>\n",
       "      <td>0.0</td>\n",
       "      <td>131.0</td>\n",
       "      <td>84.0</td>\n",
       "      <td>-88.982944</td>\n",
       "      <td>37.750143</td>\n",
       "    </tr>\n",
       "    <tr>\n",
       "      <th>3</th>\n",
       "      <td>LONG GROVE</td>\n",
       "      <td>IL</td>\n",
       "      <td>6.0</td>\n",
       "      <td>141.0</td>\n",
       "      <td>3.0</td>\n",
       "      <td>0.0</td>\n",
       "      <td>0.0</td>\n",
       "      <td>195.0</td>\n",
       "      <td>131.0</td>\n",
       "      <td>-87.986442</td>\n",
       "      <td>42.160843</td>\n",
       "    </tr>\n",
       "    <tr>\n",
       "      <th>4</th>\n",
       "      <td>CHICAGO</td>\n",
       "      <td>IL</td>\n",
       "      <td>19.0</td>\n",
       "      <td>75.0</td>\n",
       "      <td>0.0</td>\n",
       "      <td>43.0</td>\n",
       "      <td>16.0</td>\n",
       "      <td>180.0</td>\n",
       "      <td>116.0</td>\n",
       "      <td>-87.726353</td>\n",
       "      <td>41.975505</td>\n",
       "    </tr>\n",
       "    <tr>\n",
       "      <th>...</th>\n",
       "      <td>...</td>\n",
       "      <td>...</td>\n",
       "      <td>...</td>\n",
       "      <td>...</td>\n",
       "      <td>...</td>\n",
       "      <td>...</td>\n",
       "      <td>...</td>\n",
       "      <td>...</td>\n",
       "      <td>...</td>\n",
       "      <td>...</td>\n",
       "      <td>...</td>\n",
       "    </tr>\n",
       "    <tr>\n",
       "      <th>82</th>\n",
       "      <td>SCOTTSBURG</td>\n",
       "      <td>IN</td>\n",
       "      <td>0.0</td>\n",
       "      <td>16.0</td>\n",
       "      <td>0.0</td>\n",
       "      <td>31.0</td>\n",
       "      <td>33.0</td>\n",
       "      <td>85.0</td>\n",
       "      <td>54.0</td>\n",
       "      <td>-85.787005</td>\n",
       "      <td>38.701980</td>\n",
       "    </tr>\n",
       "    <tr>\n",
       "      <th>83</th>\n",
       "      <td>ELKHART</td>\n",
       "      <td>IN</td>\n",
       "      <td>0.0</td>\n",
       "      <td>0.0</td>\n",
       "      <td>0.0</td>\n",
       "      <td>0.0</td>\n",
       "      <td>0.0</td>\n",
       "      <td>97.0</td>\n",
       "      <td>82.0</td>\n",
       "      <td>-85.988504</td>\n",
       "      <td>41.677455</td>\n",
       "    </tr>\n",
       "    <tr>\n",
       "      <th>87</th>\n",
       "      <td>ORLAND PARK</td>\n",
       "      <td>IL</td>\n",
       "      <td>3.0</td>\n",
       "      <td>0.0</td>\n",
       "      <td>0.0</td>\n",
       "      <td>0.0</td>\n",
       "      <td>0.0</td>\n",
       "      <td>46.0</td>\n",
       "      <td>37.0</td>\n",
       "      <td>-87.873796</td>\n",
       "      <td>41.557067</td>\n",
       "    </tr>\n",
       "    <tr>\n",
       "      <th>88</th>\n",
       "      <td>MUNCIE</td>\n",
       "      <td>IN</td>\n",
       "      <td>0.0</td>\n",
       "      <td>2.0</td>\n",
       "      <td>1.0</td>\n",
       "      <td>7.0</td>\n",
       "      <td>0.0</td>\n",
       "      <td>68.0</td>\n",
       "      <td>44.0</td>\n",
       "      <td>-85.442732</td>\n",
       "      <td>40.226829</td>\n",
       "    </tr>\n",
       "    <tr>\n",
       "      <th>89</th>\n",
       "      <td>DILLSBORO</td>\n",
       "      <td>IN</td>\n",
       "      <td>4.0</td>\n",
       "      <td>0.0</td>\n",
       "      <td>0.0</td>\n",
       "      <td>7.0</td>\n",
       "      <td>0.0</td>\n",
       "      <td>123.0</td>\n",
       "      <td>75.0</td>\n",
       "      <td>-85.056649</td>\n",
       "      <td>39.018794</td>\n",
       "    </tr>\n",
       "  </tbody>\n",
       "</table>\n",
       "<p>62 rows × 11 columns</p>\n",
       "</div>"
      ],
      "text/plain": [
       "   Provider_City Provide_State  Covid_Admissions  Confirmed_Cases  \\\n",
       "0          NILES            IL               5.0             56.0   \n",
       "1        DUNKIRK            IN               0.0              0.0   \n",
       "2         MARION            IL               0.0              0.0   \n",
       "3     LONG GROVE            IL               6.0            141.0   \n",
       "4        CHICAGO            IL              19.0             75.0   \n",
       "..           ...           ...               ...              ...   \n",
       "82    SCOTTSBURG            IN               0.0             16.0   \n",
       "83       ELKHART            IN               0.0              0.0   \n",
       "87   ORLAND PARK            IL               3.0              0.0   \n",
       "88        MUNCIE            IN               0.0              2.0   \n",
       "89     DILLSBORO            IN               4.0              0.0   \n",
       "\n",
       "    Suspected_Cases  All_Deaths  COVID-19_Deaths  All Beds  Occupied Beds  \\\n",
       "0              10.0        15.0             12.0      99.0           61.0   \n",
       "1               0.0         0.0              0.0      46.0           43.0   \n",
       "2               0.0         0.0              0.0     131.0           84.0   \n",
       "3               3.0         0.0              0.0     195.0          131.0   \n",
       "4               0.0        43.0             16.0     180.0          116.0   \n",
       "..              ...         ...              ...       ...            ...   \n",
       "82              0.0        31.0             33.0      85.0           54.0   \n",
       "83              0.0         0.0              0.0      97.0           82.0   \n",
       "87              0.0         0.0              0.0      46.0           37.0   \n",
       "88              1.0         7.0              0.0      68.0           44.0   \n",
       "89              0.0         7.0              0.0     123.0           75.0   \n",
       "\n",
       "    LONGITUDE   LATITUDE  \n",
       "0  -87.792973  42.012012  \n",
       "1  -85.197651  40.392722  \n",
       "2  -88.982944  37.750143  \n",
       "3  -87.986442  42.160843  \n",
       "4  -87.726353  41.975505  \n",
       "..        ...        ...  \n",
       "82 -85.787005  38.701980  \n",
       "83 -85.988504  41.677455  \n",
       "87 -87.873796  41.557067  \n",
       "88 -85.442732  40.226829  \n",
       "89 -85.056649  39.018794  \n",
       "\n",
       "[62 rows x 11 columns]"
      ]
     },
     "execution_count": 36,
     "metadata": {},
     "output_type": "execute_result"
    }
   ],
   "source": [
    "# Drop rows with missing values\n",
    "covid_df.dropna()"
   ]
  },
  {
   "cell_type": "markdown",
   "metadata": {},
   "source": [
    "#### Impute Missing Data\n",
    "\n",
    "- replace missing with a value such as 0, mean or median of the data.\n",
    "- `fillna()` method can be used for such operations. "
   ]
  },
  {
   "cell_type": "markdown",
   "metadata": {},
   "source": [
    "__Fill with a Constant Value__"
   ]
  },
  {
   "cell_type": "code",
   "execution_count": 37,
   "metadata": {},
   "outputs": [
    {
     "data": {
      "text/html": [
       "<div>\n",
       "<style scoped>\n",
       "    .dataframe tbody tr th:only-of-type {\n",
       "        vertical-align: middle;\n",
       "    }\n",
       "\n",
       "    .dataframe tbody tr th {\n",
       "        vertical-align: top;\n",
       "    }\n",
       "\n",
       "    .dataframe thead th {\n",
       "        text-align: right;\n",
       "    }\n",
       "</style>\n",
       "<table border=\"1\" class=\"dataframe\">\n",
       "  <thead>\n",
       "    <tr style=\"text-align: right;\">\n",
       "      <th></th>\n",
       "      <th>Provider_City</th>\n",
       "      <th>Provide_State</th>\n",
       "      <th>Covid_Admissions</th>\n",
       "      <th>Confirmed_Cases</th>\n",
       "      <th>Suspected_Cases</th>\n",
       "      <th>All_Deaths</th>\n",
       "      <th>COVID-19_Deaths</th>\n",
       "      <th>All Beds</th>\n",
       "      <th>Occupied Beds</th>\n",
       "      <th>LONGITUDE</th>\n",
       "      <th>LATITUDE</th>\n",
       "    </tr>\n",
       "  </thead>\n",
       "  <tbody>\n",
       "    <tr>\n",
       "      <th>0</th>\n",
       "      <td>NILES</td>\n",
       "      <td>IL</td>\n",
       "      <td>5.0</td>\n",
       "      <td>56.0</td>\n",
       "      <td>10.0</td>\n",
       "      <td>15.0</td>\n",
       "      <td>12.0</td>\n",
       "      <td>99.0</td>\n",
       "      <td>61.0</td>\n",
       "      <td>-87.792973</td>\n",
       "      <td>42.012012</td>\n",
       "    </tr>\n",
       "    <tr>\n",
       "      <th>1</th>\n",
       "      <td>DUNKIRK</td>\n",
       "      <td>IN</td>\n",
       "      <td>0.0</td>\n",
       "      <td>0.0</td>\n",
       "      <td>0.0</td>\n",
       "      <td>0.0</td>\n",
       "      <td>0.0</td>\n",
       "      <td>46.0</td>\n",
       "      <td>43.0</td>\n",
       "      <td>-85.197651</td>\n",
       "      <td>40.392722</td>\n",
       "    </tr>\n",
       "    <tr>\n",
       "      <th>2</th>\n",
       "      <td>MARION</td>\n",
       "      <td>IL</td>\n",
       "      <td>0.0</td>\n",
       "      <td>0.0</td>\n",
       "      <td>0.0</td>\n",
       "      <td>0.0</td>\n",
       "      <td>0.0</td>\n",
       "      <td>131.0</td>\n",
       "      <td>84.0</td>\n",
       "      <td>-88.982944</td>\n",
       "      <td>37.750143</td>\n",
       "    </tr>\n",
       "    <tr>\n",
       "      <th>3</th>\n",
       "      <td>LONG GROVE</td>\n",
       "      <td>IL</td>\n",
       "      <td>6.0</td>\n",
       "      <td>141.0</td>\n",
       "      <td>3.0</td>\n",
       "      <td>0.0</td>\n",
       "      <td>0.0</td>\n",
       "      <td>195.0</td>\n",
       "      <td>131.0</td>\n",
       "      <td>-87.986442</td>\n",
       "      <td>42.160843</td>\n",
       "    </tr>\n",
       "    <tr>\n",
       "      <th>4</th>\n",
       "      <td>CHICAGO</td>\n",
       "      <td>IL</td>\n",
       "      <td>19.0</td>\n",
       "      <td>75.0</td>\n",
       "      <td>0.0</td>\n",
       "      <td>43.0</td>\n",
       "      <td>16.0</td>\n",
       "      <td>180.0</td>\n",
       "      <td>116.0</td>\n",
       "      <td>-87.726353</td>\n",
       "      <td>41.975505</td>\n",
       "    </tr>\n",
       "    <tr>\n",
       "      <th>...</th>\n",
       "      <td>...</td>\n",
       "      <td>...</td>\n",
       "      <td>...</td>\n",
       "      <td>...</td>\n",
       "      <td>...</td>\n",
       "      <td>...</td>\n",
       "      <td>...</td>\n",
       "      <td>...</td>\n",
       "      <td>...</td>\n",
       "      <td>...</td>\n",
       "      <td>...</td>\n",
       "    </tr>\n",
       "    <tr>\n",
       "      <th>85</th>\n",
       "      <td>ROUND LAKE BEACH</td>\n",
       "      <td>IL</td>\n",
       "      <td>NA</td>\n",
       "      <td>4.0</td>\n",
       "      <td>0.0</td>\n",
       "      <td>19.0</td>\n",
       "      <td>0.0</td>\n",
       "      <td>138.0</td>\n",
       "      <td>119.0</td>\n",
       "      <td>-88.086090</td>\n",
       "      <td>42.380225</td>\n",
       "    </tr>\n",
       "    <tr>\n",
       "      <th>86</th>\n",
       "      <td>KENDALLVILLE</td>\n",
       "      <td>IN</td>\n",
       "      <td>NA</td>\n",
       "      <td>0.0</td>\n",
       "      <td>0.0</td>\n",
       "      <td>1.0</td>\n",
       "      <td>0.0</td>\n",
       "      <td>NA</td>\n",
       "      <td>16.0</td>\n",
       "      <td>-85.264893</td>\n",
       "      <td>41.427192</td>\n",
       "    </tr>\n",
       "    <tr>\n",
       "      <th>87</th>\n",
       "      <td>ORLAND PARK</td>\n",
       "      <td>IL</td>\n",
       "      <td>3.0</td>\n",
       "      <td>0.0</td>\n",
       "      <td>0.0</td>\n",
       "      <td>0.0</td>\n",
       "      <td>0.0</td>\n",
       "      <td>46.0</td>\n",
       "      <td>37.0</td>\n",
       "      <td>-87.873796</td>\n",
       "      <td>41.557067</td>\n",
       "    </tr>\n",
       "    <tr>\n",
       "      <th>88</th>\n",
       "      <td>MUNCIE</td>\n",
       "      <td>IN</td>\n",
       "      <td>0.0</td>\n",
       "      <td>2.0</td>\n",
       "      <td>1.0</td>\n",
       "      <td>7.0</td>\n",
       "      <td>0.0</td>\n",
       "      <td>68.0</td>\n",
       "      <td>44.0</td>\n",
       "      <td>-85.442732</td>\n",
       "      <td>40.226829</td>\n",
       "    </tr>\n",
       "    <tr>\n",
       "      <th>89</th>\n",
       "      <td>DILLSBORO</td>\n",
       "      <td>IN</td>\n",
       "      <td>4.0</td>\n",
       "      <td>0.0</td>\n",
       "      <td>0.0</td>\n",
       "      <td>7.0</td>\n",
       "      <td>0.0</td>\n",
       "      <td>123.0</td>\n",
       "      <td>75.0</td>\n",
       "      <td>-85.056649</td>\n",
       "      <td>39.018794</td>\n",
       "    </tr>\n",
       "  </tbody>\n",
       "</table>\n",
       "<p>90 rows × 11 columns</p>\n",
       "</div>"
      ],
      "text/plain": [
       "       Provider_City Provide_State Covid_Admissions Confirmed_Cases  \\\n",
       "0              NILES            IL              5.0            56.0   \n",
       "1            DUNKIRK            IN              0.0             0.0   \n",
       "2             MARION            IL              0.0             0.0   \n",
       "3         LONG GROVE            IL              6.0           141.0   \n",
       "4            CHICAGO            IL             19.0            75.0   \n",
       "..               ...           ...              ...             ...   \n",
       "85  ROUND LAKE BEACH            IL               NA             4.0   \n",
       "86      KENDALLVILLE            IN               NA             0.0   \n",
       "87       ORLAND PARK            IL              3.0             0.0   \n",
       "88            MUNCIE            IN              0.0             2.0   \n",
       "89         DILLSBORO            IN              4.0             0.0   \n",
       "\n",
       "   Suspected_Cases All_Deaths COVID-19_Deaths All Beds Occupied Beds  \\\n",
       "0             10.0       15.0            12.0     99.0          61.0   \n",
       "1              0.0        0.0             0.0     46.0          43.0   \n",
       "2              0.0        0.0             0.0    131.0          84.0   \n",
       "3              3.0        0.0             0.0    195.0         131.0   \n",
       "4              0.0       43.0            16.0    180.0         116.0   \n",
       "..             ...        ...             ...      ...           ...   \n",
       "85             0.0       19.0             0.0    138.0         119.0   \n",
       "86             0.0        1.0             0.0       NA          16.0   \n",
       "87             0.0        0.0             0.0     46.0          37.0   \n",
       "88             1.0        7.0             0.0     68.0          44.0   \n",
       "89             0.0        7.0             0.0    123.0          75.0   \n",
       "\n",
       "    LONGITUDE   LATITUDE  \n",
       "0  -87.792973  42.012012  \n",
       "1  -85.197651  40.392722  \n",
       "2  -88.982944  37.750143  \n",
       "3  -87.986442  42.160843  \n",
       "4  -87.726353  41.975505  \n",
       "..        ...        ...  \n",
       "85 -88.086090  42.380225  \n",
       "86 -85.264893  41.427192  \n",
       "87 -87.873796  41.557067  \n",
       "88 -85.442732  40.226829  \n",
       "89 -85.056649  39.018794  \n",
       "\n",
       "[90 rows x 11 columns]"
      ]
     },
     "execution_count": 37,
     "metadata": {},
     "output_type": "execute_result"
    }
   ],
   "source": [
    "# Fill with a constant value\n",
    "covid_df.fillna('NA')"
   ]
  },
  {
   "cell_type": "markdown",
   "metadata": {},
   "source": [
    "__Fill with Aggregates for Different Columns__"
   ]
  },
  {
   "cell_type": "code",
   "execution_count": 38,
   "metadata": {},
   "outputs": [],
   "source": [
    "# Impute missing with aggregates\n",
    "fill_value = {'Covid_Admissions': covid_df['Covid_Admissions'].mean(),\n",
    "              'All_Deaths': covid_df['All_Deaths'].median(),\n",
    "              'All Beds': 100.0}\n",
    "\n",
    "covid_df.fillna(value=fill_value, inplace=True)"
   ]
  },
  {
   "cell_type": "code",
   "execution_count": 39,
   "metadata": {},
   "outputs": [
    {
     "data": {
      "text/plain": [
       "Provider_City        0\n",
       "Provide_State        0\n",
       "Covid_Admissions     0\n",
       "Confirmed_Cases      4\n",
       "Suspected_Cases     11\n",
       "All_Deaths           0\n",
       "COVID-19_Deaths     10\n",
       "All Beds             0\n",
       "Occupied Beds        2\n",
       "LONGITUDE            0\n",
       "LATITUDE             0\n",
       "dtype: int64"
      ]
     },
     "execution_count": 39,
     "metadata": {},
     "output_type": "execute_result"
    }
   ],
   "source": [
    "# Check missing values in each column\n",
    "covid_df.isnull().sum()"
   ]
  },
  {
   "cell_type": "markdown",
   "metadata": {},
   "source": [
    "### Plot Data "
   ]
  },
  {
   "cell_type": "markdown",
   "metadata": {},
   "source": [
    "__Plotting in Pandas__\n",
    "- Using `pandas.DataFrame.plot`"
   ]
  },
  {
   "cell_type": "code",
   "execution_count": 40,
   "metadata": {},
   "outputs": [
    {
     "data": {
      "text/html": [
       "<div>\n",
       "<style scoped>\n",
       "    .dataframe tbody tr th:only-of-type {\n",
       "        vertical-align: middle;\n",
       "    }\n",
       "\n",
       "    .dataframe tbody tr th {\n",
       "        vertical-align: top;\n",
       "    }\n",
       "\n",
       "    .dataframe thead th {\n",
       "        text-align: right;\n",
       "    }\n",
       "</style>\n",
       "<table border=\"1\" class=\"dataframe\">\n",
       "  <thead>\n",
       "    <tr style=\"text-align: right;\">\n",
       "      <th></th>\n",
       "      <th>Provider_City</th>\n",
       "      <th>Provide_State</th>\n",
       "      <th>Covid_Admissions</th>\n",
       "      <th>Confirmed_Cases</th>\n",
       "      <th>Suspected_Cases</th>\n",
       "      <th>All_Deaths</th>\n",
       "      <th>COVID-19_Deaths</th>\n",
       "      <th>All Beds</th>\n",
       "      <th>Occupied Beds</th>\n",
       "      <th>LONGITUDE</th>\n",
       "      <th>LATITUDE</th>\n",
       "    </tr>\n",
       "  </thead>\n",
       "  <tbody>\n",
       "    <tr>\n",
       "      <th>0</th>\n",
       "      <td>NILES</td>\n",
       "      <td>IL</td>\n",
       "      <td>5.0</td>\n",
       "      <td>56.0</td>\n",
       "      <td>10.0</td>\n",
       "      <td>15.0</td>\n",
       "      <td>12.0</td>\n",
       "      <td>99.0</td>\n",
       "      <td>61.0</td>\n",
       "      <td>-87.792973</td>\n",
       "      <td>42.012012</td>\n",
       "    </tr>\n",
       "    <tr>\n",
       "      <th>1</th>\n",
       "      <td>DUNKIRK</td>\n",
       "      <td>IN</td>\n",
       "      <td>0.0</td>\n",
       "      <td>0.0</td>\n",
       "      <td>0.0</td>\n",
       "      <td>0.0</td>\n",
       "      <td>0.0</td>\n",
       "      <td>46.0</td>\n",
       "      <td>43.0</td>\n",
       "      <td>-85.197651</td>\n",
       "      <td>40.392722</td>\n",
       "    </tr>\n",
       "    <tr>\n",
       "      <th>2</th>\n",
       "      <td>MARION</td>\n",
       "      <td>IL</td>\n",
       "      <td>0.0</td>\n",
       "      <td>0.0</td>\n",
       "      <td>0.0</td>\n",
       "      <td>0.0</td>\n",
       "      <td>0.0</td>\n",
       "      <td>131.0</td>\n",
       "      <td>84.0</td>\n",
       "      <td>-88.982944</td>\n",
       "      <td>37.750143</td>\n",
       "    </tr>\n",
       "    <tr>\n",
       "      <th>3</th>\n",
       "      <td>LONG GROVE</td>\n",
       "      <td>IL</td>\n",
       "      <td>6.0</td>\n",
       "      <td>141.0</td>\n",
       "      <td>3.0</td>\n",
       "      <td>0.0</td>\n",
       "      <td>0.0</td>\n",
       "      <td>195.0</td>\n",
       "      <td>131.0</td>\n",
       "      <td>-87.986442</td>\n",
       "      <td>42.160843</td>\n",
       "    </tr>\n",
       "    <tr>\n",
       "      <th>4</th>\n",
       "      <td>CHICAGO</td>\n",
       "      <td>IL</td>\n",
       "      <td>19.0</td>\n",
       "      <td>75.0</td>\n",
       "      <td>0.0</td>\n",
       "      <td>43.0</td>\n",
       "      <td>16.0</td>\n",
       "      <td>180.0</td>\n",
       "      <td>116.0</td>\n",
       "      <td>-87.726353</td>\n",
       "      <td>41.975505</td>\n",
       "    </tr>\n",
       "  </tbody>\n",
       "</table>\n",
       "</div>"
      ],
      "text/plain": [
       "  Provider_City Provide_State  Covid_Admissions  Confirmed_Cases  \\\n",
       "0         NILES            IL               5.0             56.0   \n",
       "1       DUNKIRK            IN               0.0              0.0   \n",
       "2        MARION            IL               0.0              0.0   \n",
       "3    LONG GROVE            IL               6.0            141.0   \n",
       "4       CHICAGO            IL              19.0             75.0   \n",
       "\n",
       "   Suspected_Cases  All_Deaths  COVID-19_Deaths  All Beds  Occupied Beds  \\\n",
       "0             10.0        15.0             12.0      99.0           61.0   \n",
       "1              0.0         0.0              0.0      46.0           43.0   \n",
       "2              0.0         0.0              0.0     131.0           84.0   \n",
       "3              3.0         0.0              0.0     195.0          131.0   \n",
       "4              0.0        43.0             16.0     180.0          116.0   \n",
       "\n",
       "   LONGITUDE   LATITUDE  \n",
       "0 -87.792973  42.012012  \n",
       "1 -85.197651  40.392722  \n",
       "2 -88.982944  37.750143  \n",
       "3 -87.986442  42.160843  \n",
       "4 -87.726353  41.975505  "
      ]
     },
     "execution_count": 40,
     "metadata": {},
     "output_type": "execute_result"
    }
   ],
   "source": [
    "# Check data\n",
    "covid_df.head()"
   ]
  },
  {
   "cell_type": "markdown",
   "metadata": {},
   "source": [
    "#### Line Plot"
   ]
  },
  {
   "cell_type": "code",
   "execution_count": 41,
   "metadata": {},
   "outputs": [
    {
     "data": {
      "image/png": "[encoded data removed]",
      "text/plain": [
       "<Figure size 432x288 with 1 Axes>"
      ]
     },
     "metadata": {
      "needs_background": "light"
     },
     "output_type": "display_data"
    }
   ],
   "source": [
    "# Line Plot\n",
    "covid_df['Confirmed_Cases'].plot();"
   ]
  },
  {
   "cell_type": "markdown",
   "metadata": {},
   "source": [
    "#### Scatter Plot"
   ]
  },
  {
   "cell_type": "code",
   "execution_count": 42,
   "metadata": {},
   "outputs": [
    {
     "data": {
      "image/png": "[encoded data removed]",
      "text/plain": [
       "<Figure size 576x432 with 1 Axes>"
      ]
     },
     "metadata": {
      "needs_background": "light"
     },
     "output_type": "display_data"
    }
   ],
   "source": [
    "# Scatter Plot\n",
    "covid_df.plot.scatter(x='Confirmed_Cases', y='COVID-19_Deaths', \n",
    "                       figsize=(8,6), title='Scatter Plot');"
   ]
  },
  {
   "cell_type": "markdown",
   "metadata": {},
   "source": [
    "#### Subplots"
   ]
  },
  {
   "cell_type": "code",
   "execution_count": 43,
   "metadata": {},
   "outputs": [
    {
     "data": {
      "image/png": "[encoded data removed]",
      "text/plain": [
       "<Figure size 1080x720 with 4 Axes>"
      ]
     },
     "metadata": {
      "needs_background": "light"
     },
     "output_type": "display_data"
    }
   ],
   "source": [
    "# Import matplotlib\n",
    "import matplotlib.pyplot as plt\n",
    "\n",
    "# Create grid for subplots\n",
    "fig, axes = plt.subplots(2,2, figsize=(15,10))\n",
    "\n",
    "# Line Plot\n",
    "covid_df['Confirmed_Cases'].plot(ax=axes[0,0], title='Confirmed Cases')\n",
    "\n",
    "# Scatter Plot\n",
    "covid_df.plot.scatter(x='Confirmed_Cases', y='COVID-19_Deaths', \n",
    "                      title='Confirmed Cases vs Deaths', ax=axes[0,1])\n",
    "\n",
    "# Histogram\n",
    "covid_df['Occupied Beds'].plot(kind='hist', ax=axes[1,0], title='Occupied Beds')\n",
    "\n",
    "# Boxplot\n",
    "covid_df.boxplot(column=['COVID-19_Deaths'], by =['Provide_State'], \n",
    "                 grid=False, ax=axes[1,1], return_type='axes')\n",
    "\n",
    "fig.suptitle('')\n",
    "fig.tight_layout();"
   ]
  },
  {
   "cell_type": "markdown",
   "metadata": {
    "heading_collapsed": true
   },
   "source": [
    "#### Quick Summary\n",
    "- Working with Missing Data\n",
    "    - detect, drop and impute missing\n",
    "- Plot data\n",
    "    - plot using pandas"
   ]
  }
 ],
 "metadata": {
  "anaconda-cloud": {},
  "kernelspec": {
   "display_name": "Python 3",
   "language": "python",
   "name": "python3"
  },
  "language_info": {
   "codemirror_mode": {
    "name": "ipython",
    "version": 3
   },
   "file_extension": ".py",
   "mimetype": "text/x-python",
   "name": "python",
   "nbconvert_exporter": "python",
   "pygments_lexer": "ipython3",
   "version": "3.8.5"
  },
  "livereveal": {
   "scroll": true
  },
  "toc": {
   "base_numbering": 1,
   "nav_menu": {},
   "number_sections": true,
   "sideBar": true,
   "skip_h1_title": true,
   "title_cell": "Table of Contents",
   "title_sidebar": "Contents",
   "toc_cell": true,
   "toc_position": {
    "height": "calc(100% - 180px)",
    "left": "10px",
    "top": "150px",
    "width": "314px"
   },
   "toc_section_display": true,
   "toc_window_display": false
  }
 },
 "nbformat": 4,
 "nbformat_minor": 2
}
