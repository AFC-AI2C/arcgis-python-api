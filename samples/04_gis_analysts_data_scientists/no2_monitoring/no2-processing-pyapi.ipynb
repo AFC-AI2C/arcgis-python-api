{
 "cells": [
  {
   "cell_type": "markdown",
   "metadata": {},
   "source": [
    "# Process NO2 data from Cloud Raster Format file"
   ]
  },
  {
   "cell_type": "code",
   "execution_count": 12,
   "metadata": {},
   "outputs": [],
   "source": [
    "from arcgis.gis import GIS\n",
    "from arcgis.raster import RasterCollection, Raster\n",
    "from arcgis import raster\n",
    "import arcpy\n",
    "import matplotlib.pyplot as plt\n",
    "import numpy as np"
   ]
  },
  {
   "cell_type": "code",
   "execution_count": 2,
   "metadata": {},
   "outputs": [],
   "source": [
    "crf_path = r'\\\\Mac\\Home\\Documents\\GIS_data\\Imagery\\sentinel-5p\\ny-2019-2020\\ny_crf\\ny_19_20.crf'"
   ]
  },
  {
   "cell_type": "code",
   "execution_count": 3,
   "metadata": {},
   "outputs": [],
   "source": [
    "gis= GIS()"
   ]
  },
  {
   "cell_type": "markdown",
   "metadata": {},
   "source": [
    "## Read into a `RasterCollection` object"
   ]
  },
  {
   "cell_type": "code",
   "execution_count": 4,
   "metadata": {},
   "outputs": [
    {
     "data": {
      "text/html": [
       "<div>\n",
       "<style scoped>\n",
       "    .dataframe tbody tr th:only-of-type {\n",
       "        vertical-align: middle;\n",
       "    }\n",
       "\n",
       "    .dataframe tbody tr th {\n",
       "        vertical-align: top;\n",
       "    }\n",
       "\n",
       "    .dataframe thead th {\n",
       "        text-align: right;\n",
       "    }\n",
       "</style>\n",
       "<table border=\"1\" class=\"dataframe\">\n",
       "  <thead>\n",
       "    <tr style=\"text-align: right;\">\n",
       "      <th></th>\n",
       "      <th>Variable</th>\n",
       "      <th>StdTime</th>\n",
       "      <th>Raster</th>\n",
       "    </tr>\n",
       "  </thead>\n",
       "  <tbody>\n",
       "    <tr>\n",
       "      <th>0</th>\n",
       "      <td>/product/nitrogendioxide_tropospheric_column</td>\n",
       "      <td>2019-04-01T00:00:00+00:00</td>\n",
       "      <td>&lt;arcgis.raster._layer.Raster object at 0x00000...</td>\n",
       "    </tr>\n",
       "    <tr>\n",
       "      <th>1</th>\n",
       "      <td>/product/nitrogendioxide_tropospheric_column</td>\n",
       "      <td>2019-04-03T00:00:00+00:00</td>\n",
       "      <td>&lt;arcgis.raster._layer.Raster object at 0x00000...</td>\n",
       "    </tr>\n",
       "    <tr>\n",
       "      <th>2</th>\n",
       "      <td>/product/nitrogendioxide_tropospheric_column</td>\n",
       "      <td>2019-04-04T00:00:00+00:00</td>\n",
       "      <td>&lt;arcgis.raster._layer.Raster object at 0x00000...</td>\n",
       "    </tr>\n",
       "    <tr>\n",
       "      <th>3</th>\n",
       "      <td>/product/nitrogendioxide_tropospheric_column</td>\n",
       "      <td>2019-04-05T00:00:00+00:00</td>\n",
       "      <td>&lt;arcgis.raster._layer.Raster object at 0x00000...</td>\n",
       "    </tr>\n",
       "    <tr>\n",
       "      <th>4</th>\n",
       "      <td>/product/nitrogendioxide_tropospheric_column</td>\n",
       "      <td>2019-04-06T00:00:00+00:00</td>\n",
       "      <td>&lt;arcgis.raster._layer.Raster object at 0x00000...</td>\n",
       "    </tr>\n",
       "    <tr>\n",
       "      <th>5</th>\n",
       "      <td>/product/nitrogendioxide_tropospheric_column</td>\n",
       "      <td>2019-04-07T00:00:00+00:00</td>\n",
       "      <td>&lt;arcgis.raster._layer.Raster object at 0x00000...</td>\n",
       "    </tr>\n",
       "    <tr>\n",
       "      <th>6</th>\n",
       "      <td>/product/nitrogendioxide_tropospheric_column</td>\n",
       "      <td>2020-04-01T00:00:00+00:00</td>\n",
       "      <td>&lt;arcgis.raster._layer.Raster object at 0x00000...</td>\n",
       "    </tr>\n",
       "    <tr>\n",
       "      <th>7</th>\n",
       "      <td>/product/nitrogendioxide_tropospheric_column</td>\n",
       "      <td>2020-04-02T00:00:00+00:00</td>\n",
       "      <td>&lt;arcgis.raster._layer.Raster object at 0x00000...</td>\n",
       "    </tr>\n",
       "    <tr>\n",
       "      <th>8</th>\n",
       "      <td>/product/nitrogendioxide_tropospheric_column</td>\n",
       "      <td>2020-04-03T00:00:00+00:00</td>\n",
       "      <td>&lt;arcgis.raster._layer.Raster object at 0x00000...</td>\n",
       "    </tr>\n",
       "    <tr>\n",
       "      <th>9</th>\n",
       "      <td>/product/nitrogendioxide_tropospheric_column</td>\n",
       "      <td>2020-04-04T00:00:00+00:00</td>\n",
       "      <td>&lt;arcgis.raster._layer.Raster object at 0x00000...</td>\n",
       "    </tr>\n",
       "    <tr>\n",
       "      <th>10</th>\n",
       "      <td>/product/nitrogendioxide_tropospheric_column</td>\n",
       "      <td>2020-04-05T00:00:00+00:00</td>\n",
       "      <td>&lt;arcgis.raster._layer.Raster object at 0x00000...</td>\n",
       "    </tr>\n",
       "    <tr>\n",
       "      <th>11</th>\n",
       "      <td>/product/nitrogendioxide_tropospheric_column</td>\n",
       "      <td>2020-04-06T00:00:00+00:00</td>\n",
       "      <td>&lt;arcgis.raster._layer.Raster object at 0x00000...</td>\n",
       "    </tr>\n",
       "    <tr>\n",
       "      <th>12</th>\n",
       "      <td>/product/qa_value</td>\n",
       "      <td>2019-04-01T00:00:00+00:00</td>\n",
       "      <td>&lt;arcgis.raster._layer.Raster object at 0x00000...</td>\n",
       "    </tr>\n",
       "    <tr>\n",
       "      <th>13</th>\n",
       "      <td>/product/qa_value</td>\n",
       "      <td>2019-04-03T00:00:00+00:00</td>\n",
       "      <td>&lt;arcgis.raster._layer.Raster object at 0x00000...</td>\n",
       "    </tr>\n",
       "    <tr>\n",
       "      <th>14</th>\n",
       "      <td>/product/qa_value</td>\n",
       "      <td>2019-04-04T00:00:00+00:00</td>\n",
       "      <td>&lt;arcgis.raster._layer.Raster object at 0x00000...</td>\n",
       "    </tr>\n",
       "    <tr>\n",
       "      <th>15</th>\n",
       "      <td>/product/qa_value</td>\n",
       "      <td>2019-04-05T00:00:00+00:00</td>\n",
       "      <td>&lt;arcgis.raster._layer.Raster object at 0x00000...</td>\n",
       "    </tr>\n",
       "    <tr>\n",
       "      <th>16</th>\n",
       "      <td>/product/qa_value</td>\n",
       "      <td>2019-04-06T00:00:00+00:00</td>\n",
       "      <td>&lt;arcgis.raster._layer.Raster object at 0x00000...</td>\n",
       "    </tr>\n",
       "    <tr>\n",
       "      <th>17</th>\n",
       "      <td>/product/qa_value</td>\n",
       "      <td>2019-04-07T00:00:00+00:00</td>\n",
       "      <td>&lt;arcgis.raster._layer.Raster object at 0x00000...</td>\n",
       "    </tr>\n",
       "    <tr>\n",
       "      <th>18</th>\n",
       "      <td>/product/qa_value</td>\n",
       "      <td>2020-04-01T00:00:00+00:00</td>\n",
       "      <td>&lt;arcgis.raster._layer.Raster object at 0x00000...</td>\n",
       "    </tr>\n",
       "    <tr>\n",
       "      <th>19</th>\n",
       "      <td>/product/qa_value</td>\n",
       "      <td>2020-04-02T00:00:00+00:00</td>\n",
       "      <td>&lt;arcgis.raster._layer.Raster object at 0x00000...</td>\n",
       "    </tr>\n",
       "    <tr>\n",
       "      <th>20</th>\n",
       "      <td>/product/qa_value</td>\n",
       "      <td>2020-04-03T00:00:00+00:00</td>\n",
       "      <td>&lt;arcgis.raster._layer.Raster object at 0x00000...</td>\n",
       "    </tr>\n",
       "    <tr>\n",
       "      <th>21</th>\n",
       "      <td>/product/qa_value</td>\n",
       "      <td>2020-04-04T00:00:00+00:00</td>\n",
       "      <td>&lt;arcgis.raster._layer.Raster object at 0x00000...</td>\n",
       "    </tr>\n",
       "    <tr>\n",
       "      <th>22</th>\n",
       "      <td>/product/qa_value</td>\n",
       "      <td>2020-04-05T00:00:00+00:00</td>\n",
       "      <td>&lt;arcgis.raster._layer.Raster object at 0x00000...</td>\n",
       "    </tr>\n",
       "    <tr>\n",
       "      <th>23</th>\n",
       "      <td>/product/qa_value</td>\n",
       "      <td>2020-04-06T00:00:00+00:00</td>\n",
       "      <td>&lt;arcgis.raster._layer.Raster object at 0x00000...</td>\n",
       "    </tr>\n",
       "  </tbody>\n",
       "</table>\n",
       "</div>"
      ],
      "text/plain": [
       "<arcgis.raster._layer.RasterCollection at 0x240082a8f28>"
      ]
     },
     "execution_count": 4,
     "metadata": {},
     "output_type": "execute_result"
    }
   ],
   "source": [
    "all_rc = RasterCollection(crf_path)\n",
    "all_rc"
   ]
  },
  {
   "cell_type": "markdown",
   "metadata": {},
   "source": [
    "### Filter out data for 2019 and 2020"
   ]
  },
  {
   "cell_type": "code",
   "execution_count": 5,
   "metadata": {},
   "outputs": [
    {
     "data": {
      "text/plain": [
       "arcgis.raster._layer.RasterCollection"
      ]
     },
     "execution_count": 5,
     "metadata": {},
     "output_type": "execute_result"
    }
   ],
   "source": [
    "type(all_rc)"
   ]
  },
  {
   "cell_type": "code",
   "execution_count": 6,
   "metadata": {},
   "outputs": [
    {
     "name": "stdout",
     "output_type": "stream",
     "text": [
      "12 12\n"
     ]
    }
   ],
   "source": [
    "all_2019 = all_rc.filter_by_calendar_range('YEAR',2019,2019)\n",
    "all_2020 = all_rc.filter_by_calendar_range('YEAR',2020,2020)\n",
    "print(all_2019.count, all_2020.count)"
   ]
  },
  {
   "cell_type": "code",
   "execution_count": 7,
   "metadata": {},
   "outputs": [
    {
     "name": "stdout",
     "output_type": "stream",
     "text": [
      "6 6\n"
     ]
    }
   ],
   "source": [
    "no2_19 = all_2019.filter_by_attribute(field_name='Variable', \n",
    "                                          operator='CONTAINS', \n",
    "                                          field_values='nitrogendioxide')\n",
    "\n",
    "no2_20 = all_2020.filter_by_attribute(field_name='Variable', \n",
    "                                          operator='CONTAINS', \n",
    "                                          field_values='nitrogendioxide')\n",
    "print(no2_19.count, no2_20.count)"
   ]
  },
  {
   "cell_type": "code",
   "execution_count": 8,
   "metadata": {},
   "outputs": [
    {
     "name": "stdout",
     "output_type": "stream",
     "text": [
      "6 6\n"
     ]
    }
   ],
   "source": [
    "qa_19 = all_2019.filter_by_attribute(field_name='Variable', \n",
    "                                          operator='CONTAINS', \n",
    "                                          field_values='qa_value')\n",
    "\n",
    "qa_20 = all_2020.filter_by_attribute(field_name='Variable', \n",
    "                                          operator='CONTAINS', \n",
    "                                          field_values='qa_value')\n",
    "print(qa_19.count, qa_20.count)"
   ]
  },
  {
   "cell_type": "markdown",
   "metadata": {},
   "source": [
    "## Process data for 2019"
   ]
  },
  {
   "cell_type": "markdown",
   "metadata": {},
   "source": [
    "### Read individual `Raster`s from `RasterCollection`"
   ]
  },
  {
   "cell_type": "code",
   "execution_count": 9,
   "metadata": {},
   "outputs": [
    {
     "data": {
      "text/html": [
       "<div>\n",
       "<style scoped>\n",
       "    .dataframe tbody tr th:only-of-type {\n",
       "        vertical-align: middle;\n",
       "    }\n",
       "\n",
       "    .dataframe tbody tr th {\n",
       "        vertical-align: top;\n",
       "    }\n",
       "\n",
       "    .dataframe thead th {\n",
       "        text-align: right;\n",
       "    }\n",
       "</style>\n",
       "<table border=\"1\" class=\"dataframe\">\n",
       "  <thead>\n",
       "    <tr style=\"text-align: right;\">\n",
       "      <th></th>\n",
       "      <th>Raster</th>\n",
       "      <th>Variable</th>\n",
       "      <th>StdTime</th>\n",
       "    </tr>\n",
       "  </thead>\n",
       "  <tbody>\n",
       "    <tr>\n",
       "      <th>0</th>\n",
       "      <td>&lt;arcgis.raster._layer.Raster object at 0x00000...</td>\n",
       "      <td>/product/nitrogendioxide_tropospheric_column</td>\n",
       "      <td>2019-04-01T00:00:00+00:00</td>\n",
       "    </tr>\n",
       "    <tr>\n",
       "      <th>1</th>\n",
       "      <td>&lt;arcgis.raster._layer.Raster object at 0x00000...</td>\n",
       "      <td>/product/nitrogendioxide_tropospheric_column</td>\n",
       "      <td>2019-04-03T00:00:00+00:00</td>\n",
       "    </tr>\n",
       "    <tr>\n",
       "      <th>2</th>\n",
       "      <td>&lt;arcgis.raster._layer.Raster object at 0x00000...</td>\n",
       "      <td>/product/nitrogendioxide_tropospheric_column</td>\n",
       "      <td>2019-04-04T00:00:00+00:00</td>\n",
       "    </tr>\n",
       "    <tr>\n",
       "      <th>3</th>\n",
       "      <td>&lt;arcgis.raster._layer.Raster object at 0x00000...</td>\n",
       "      <td>/product/nitrogendioxide_tropospheric_column</td>\n",
       "      <td>2019-04-05T00:00:00+00:00</td>\n",
       "    </tr>\n",
       "    <tr>\n",
       "      <th>4</th>\n",
       "      <td>&lt;arcgis.raster._layer.Raster object at 0x00000...</td>\n",
       "      <td>/product/nitrogendioxide_tropospheric_column</td>\n",
       "      <td>2019-04-06T00:00:00+00:00</td>\n",
       "    </tr>\n",
       "    <tr>\n",
       "      <th>5</th>\n",
       "      <td>&lt;arcgis.raster._layer.Raster object at 0x00000...</td>\n",
       "      <td>/product/nitrogendioxide_tropospheric_column</td>\n",
       "      <td>2019-04-07T00:00:00+00:00</td>\n",
       "    </tr>\n",
       "  </tbody>\n",
       "</table>\n",
       "</div>"
      ],
      "text/plain": [
       "<arcgis.raster._layer.RasterCollection at 0x240056f0978>"
      ]
     },
     "execution_count": 9,
     "metadata": {},
     "output_type": "execute_result"
    }
   ],
   "source": [
    "no2_19"
   ]
  },
  {
   "cell_type": "code",
   "execution_count": 10,
   "metadata": {},
   "outputs": [
    {
     "data": {
      "text/plain": [
       "arcgis.raster._layer.Raster"
      ]
     },
     "execution_count": 10,
     "metadata": {},
     "output_type": "execute_result"
    }
   ],
   "source": [
    "r1 = no2_19[0]['Raster']\n",
    "type(r1)"
   ]
  },
  {
   "cell_type": "code",
   "execution_count": 11,
   "metadata": {},
   "outputs": [
    {
     "data": {
      "image/png": "[encoded data removed]",
      "text/plain": [
       "<arcgis.raster._layer.Raster at 0x2400300f978>"
      ]
     },
     "execution_count": 11,
     "metadata": {},
     "output_type": "execute_result"
    }
   ],
   "source": [
    "qa1 = qa_19[0]['Raster']\n",
    "qa1"
   ]
  },
  {
   "cell_type": "markdown",
   "metadata": {},
   "source": [
    "### Filter out bad cells"
   ]
  },
  {
   "cell_type": "code",
   "execution_count": 30,
   "metadata": {},
   "outputs": [],
   "source": [
    "arcpy.env.matchMultidimensionalVariable = False"
   ]
  },
  {
   "cell_type": "code",
   "execution_count": 33,
   "metadata": {},
   "outputs": [
    {
     "ename": "TypeError",
     "evalue": "unhashable type: 'Raster'",
     "output_type": "error",
     "traceback": [
      "\u001b[1;31m---------------------------------------------------------------------------\u001b[0m",
      "\u001b[1;31mTypeError\u001b[0m                                 Traceback (most recent call last)",
      "\u001b[1;32m<ipython-input-33-11d8f2ce333b>\u001b[0m in \u001b[0;36m<module>\u001b[1;34m\u001b[0m\n\u001b[1;32m----> 1\u001b[1;33m \u001b[0mr1_filtered\u001b[0m \u001b[1;33m=\u001b[0m \u001b[0mraster\u001b[0m\u001b[1;33m.\u001b[0m\u001b[0mfunctions\u001b[0m\u001b[1;33m.\u001b[0m\u001b[0mcon\u001b[0m\u001b[1;33m(\u001b[0m\u001b[1;33m(\u001b[0m\u001b[0mqa1\u001b[0m\u001b[1;33m>=\u001b[0m\u001b[1;36m0.75\u001b[0m\u001b[1;33m)\u001b[0m\u001b[1;33m&\u001b[0m\u001b[1;33m(\u001b[0m\u001b[0mr1\u001b[0m\u001b[1;33m>=\u001b[0m\u001b[1;36m0\u001b[0m\u001b[1;33m)\u001b[0m\u001b[1;33m,\u001b[0m \u001b[0mr1\u001b[0m\u001b[1;33m)\u001b[0m\u001b[1;33m\u001b[0m\u001b[1;33m\u001b[0m\u001b[0m\n\u001b[0m\u001b[0;32m      2\u001b[0m \u001b[0mr1_filtered\u001b[0m\u001b[1;33m\u001b[0m\u001b[1;33m\u001b[0m\u001b[0m\n",
      "\u001b[1;32my:\\documents\\code\\geosurus\\geosaurus\\src\\arcgis\\raster\\functions\\__init__.py\u001b[0m in \u001b[0;36mcon\u001b[1;34m(rasters, extent_type, cellsize_type, astype)\u001b[0m\n\u001b[0;32m   2494\u001b[0m \u001b[1;33m\u001b[0m\u001b[0m\n\u001b[0;32m   2495\u001b[0m     \"\"\"\n\u001b[1;32m-> 2496\u001b[1;33m     \u001b[1;32mreturn\u001b[0m \u001b[0mlocal\u001b[0m\u001b[1;33m(\u001b[0m\u001b[0mrasters\u001b[0m\u001b[1;33m,\u001b[0m \u001b[1;36m78\u001b[0m\u001b[1;33m,\u001b[0m \u001b[0mextent_type\u001b[0m\u001b[1;33m=\u001b[0m\u001b[0mextent_type\u001b[0m\u001b[1;33m,\u001b[0m \u001b[0mcellsize_type\u001b[0m\u001b[1;33m=\u001b[0m\u001b[0mcellsize_type\u001b[0m\u001b[1;33m,\u001b[0m \u001b[0mastype\u001b[0m\u001b[1;33m=\u001b[0m\u001b[0mastype\u001b[0m\u001b[1;33m)\u001b[0m\u001b[1;33m\u001b[0m\u001b[1;33m\u001b[0m\u001b[0m\n\u001b[0m\u001b[0;32m   2497\u001b[0m \u001b[1;33m\u001b[0m\u001b[0m\n\u001b[0;32m   2498\u001b[0m \u001b[1;33m\u001b[0m\u001b[0m\n",
      "\u001b[1;32my:\\documents\\code\\geosurus\\geosaurus\\src\\arcgis\\raster\\functions\\__init__.py\u001b[0m in \u001b[0;36mlocal\u001b[1;34m(rasters, operation, extent_type, cellsize_type, astype, process_as_multiband)\u001b[0m\n\u001b[0;32m   1401\u001b[0m     }\n\u001b[0;32m   1402\u001b[0m \u001b[1;33m\u001b[0m\u001b[0m\n\u001b[1;32m-> 1403\u001b[1;33m     \u001b[0min_extent_type\u001b[0m \u001b[1;33m=\u001b[0m \u001b[0mextent_types\u001b[0m\u001b[1;33m[\u001b[0m\u001b[0mextent_type\u001b[0m\u001b[1;33m]\u001b[0m\u001b[1;33m\u001b[0m\u001b[1;33m\u001b[0m\u001b[0m\n\u001b[0m\u001b[0;32m   1404\u001b[0m     \u001b[0min_cellsize_type\u001b[0m \u001b[1;33m=\u001b[0m \u001b[0mcellsize_types\u001b[0m\u001b[1;33m[\u001b[0m\u001b[0mcellsize_type\u001b[0m\u001b[1;33m]\u001b[0m\u001b[1;33m\u001b[0m\u001b[1;33m\u001b[0m\u001b[0m\n\u001b[0;32m   1405\u001b[0m \u001b[1;33m\u001b[0m\u001b[0m\n",
      "\u001b[1;31mTypeError\u001b[0m: unhashable type: 'Raster'"
     ]
    }
   ],
   "source": [
    "r1_filtered = raster.functions.con((qa1>=0.75)&(r1>=0), r1)\n",
    "r1_filtered"
   ]
  }
 ],
 "metadata": {
  "kernelspec": {
   "display_name": "Python 3",
   "language": "python",
   "name": "python3"
  },
  "language_info": {
   "codemirror_mode": {
    "name": "ipython",
    "version": 3
   },
   "file_extension": ".py",
   "mimetype": "text/x-python",
   "name": "python",
   "nbconvert_exporter": "python",
   "pygments_lexer": "ipython3",
   "version": "3.6.10"
  }
 },
 "nbformat": 4,
 "nbformat_minor": 4
}
