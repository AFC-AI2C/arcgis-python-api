{
 "cells": [
  {
   "cell_type": "markdown",
   "metadata": {},
   "source": [
    "# Process NO2 data from Cloud Raster Format file"
   ]
  },
  {
   "cell_type": "code",
   "execution_count": 4,
   "metadata": {},
   "outputs": [],
   "source": [
    "from arcgis.gis import GIS\n",
    "from arcgis.raster import RasterCollection, Raster\n",
    "from arcgis import raster\n",
    "import arcpy\n",
    "import matplotlib.pyplot as plt\n",
    "import numpy as np\n",
    "import os"
   ]
  },
  {
   "cell_type": "code",
   "execution_count": 2,
   "metadata": {},
   "outputs": [],
   "source": [
    "gis= GIS()"
   ]
  },
  {
   "cell_type": "code",
   "execution_count": 5,
   "metadata": {},
   "outputs": [
    {
     "data": {
      "text/plain": [
       "'Y:\\\\Documents\\\\GIS_data\\\\Imagery\\\\sentinel-5p\\\\ny-2019-2020\\\\ny_crf\\\\ny_19_20.crf'"
      ]
     },
     "execution_count": 5,
     "metadata": {},
     "output_type": "execute_result"
    }
   ],
   "source": [
    "base_path = r'Y:\\Documents\\GIS_data\\Imagery\\sentinel-5p\\ny-2019-2020\\ny_crf'\n",
    "crf_path = os.path.join(base_path, 'ny_19_20.crf')\n",
    "crf_path"
   ]
  },
  {
   "cell_type": "code",
   "execution_count": 3,
   "metadata": {},
   "outputs": [
    {
     "data": {
      "text/html": [
       "<div class=\"item_container\" style=\"height: auto; overflow: hidden; border: 1px solid #cfcfcf; border-radius: 2px; background: #f6fafa; line-height: 1.21429em; padding: 10px;\">\n",
       "                    <div class=\"item_left\" style=\"width: 210px; float: left;\">\n",
       "                       <a href='https://www.arcgis.com/home/item.html?id=b713f5b7fbd14c7597d9797b27b14835' target='_blank'>\n",
       "                        <img src='https://www.arcgis.com/sharing/rest//content/items/b713f5b7fbd14c7597d9797b27b14835/info/thumbnail/thumbnail1597173008074.png' class=\"itemThumbnail\">\n",
       "                       </a>\n",
       "                    </div>\n",
       "\n",
       "                    <div class=\"item_right\"     style=\"float: none; width: auto; overflow: hidden;\">\n",
       "                        <a href='https://www.arcgis.com/home/item.html?id=b713f5b7fbd14c7597d9797b27b14835' target='_blank'><b>New York NO2 levels April 2019, April 2020 as CRF</b>\n",
       "                        </a>\n",
       "                        <br/>CRF data composed using TROPOMI NO2 data from April 2019 and April 2020<img src='https://www.arcgis.com/home/js/jsapi/esri/css/images/item_type_icons/layers16.png' style=\"vertical-align:middle;\">Image Collection by api_data_owner\n",
       "                        <br/>Last Modified: August 11, 2020\n",
       "                        <br/>0 comments, 1 views\n",
       "                    </div>\n",
       "                </div>\n",
       "                "
      ],
      "text/plain": [
       "<Item title:\"New York NO2 levels April 2019, April 2020 as CRF\" type:Image Collection owner:api_data_owner>"
      ]
     },
     "execution_count": 3,
     "metadata": {},
     "output_type": "execute_result"
    }
   ],
   "source": [
    "# download data\n",
    "# nc_item = gis.content.get('b713f5b7fbd14c7597d9797b27b14835')\n",
    "# nc_item.download(save_path=base_path)"
   ]
  },
  {
   "cell_type": "markdown",
   "metadata": {},
   "source": [
    "#### degbug lines\n",
    "```python\n",
    "from arcgis.raster import RasterCollection, Raster\n",
    "from arcgis import raster\n",
    "import arcpy\n",
    "crf_path = r'Y:\\Documents\\GIS_data\\Imagery\\sentinel-5p\\ny-2019-2020\\ny_crf\\ny_19_20.crf'\n",
    "all_rc = RasterCollection(crf_path)\n",
    "all_2019 = all_rc.filter_by_calendar_range('YEAR',2019,2019)\n",
    "no2_19 = all_2019.filter_by_attribute(field_name='Variable', \n",
    "                                          operator='CONTAINS', \n",
    "                                          field_values='nitrogendioxide')\n",
    "r1 = no2_19[0]['Raster']\n",
    "```"
   ]
  },
  {
   "cell_type": "markdown",
   "metadata": {},
   "source": [
    "## Read into a `RasterCollection` object and extract 1st `Raster`"
   ]
  },
  {
   "cell_type": "code",
   "execution_count": 6,
   "metadata": {},
   "outputs": [
    {
     "data": {
      "text/plain": [
       "arcgis.raster._layer.Raster"
      ]
     },
     "execution_count": 6,
     "metadata": {},
     "output_type": "execute_result"
    }
   ],
   "source": [
    "all_rc = RasterCollection(crf_path)\n",
    "all_2019 = all_rc.filter_by_calendar_range('YEAR',2019,2019)\n",
    "no2_19 = all_2019.filter_by_attribute(field_name='Variable', \n",
    "                                          operator='CONTAINS', \n",
    "                                          field_values='nitrogendioxide')\n",
    "r1 = no2_19[0]['Raster']\n",
    "type(r1)"
   ]
  },
  {
   "cell_type": "code",
   "execution_count": 8,
   "metadata": {},
   "outputs": [
    {
     "data": {
      "text/plain": [
       "arcpy.sa.Raster.Raster"
      ]
     },
     "execution_count": 8,
     "metadata": {},
     "output_type": "execute_result"
    }
   ],
   "source": [
    "# get arcpy raster\n",
    "arcpy_r1 = r1._engine_obj._raster\n",
    "type(arcpy_r1)"
   ]
  },
  {
   "cell_type": "markdown",
   "metadata": {},
   "source": [
    "## Bug 1 - map algebra difference (Greater Than Equal)"
   ]
  },
  {
   "cell_type": "code",
   "execution_count": 10,
   "metadata": {},
   "outputs": [
    {
     "data": {
      "text/plain": [
       "(-7.956242916407064e-05, 0.0158010832965374)"
      ]
     },
     "execution_count": 10,
     "metadata": {},
     "output_type": "execute_result"
    }
   ],
   "source": [
    "r1_pos_mask = r1 >= 0\n",
    "(r1_pos_mask.minimum, r1_pos_mask.maximum) # should be 0, 1"
   ]
  },
  {
   "cell_type": "code",
   "execution_count": 11,
   "metadata": {},
   "outputs": [
    {
     "data": {
      "text/plain": [
       "(0.0, 1.0)"
      ]
     },
     "execution_count": 11,
     "metadata": {},
     "output_type": "execute_result"
    }
   ],
   "source": [
    "arcpy_r1_pos_mask = arcpy_r1 >=0\n",
    "(arcpy_r1_pos_mask.minimum, arcpy_r1_pos_mask.maximum)"
   ]
  },
  {
   "cell_type": "markdown",
   "metadata": {},
   "source": [
    "## Bug 2 - logical raster function difference"
   ]
  },
  {
   "cell_type": "code",
   "execution_count": 12,
   "metadata": {},
   "outputs": [
    {
     "name": "stdout",
     "output_type": "stream",
     "text": [
      "Failed to apply Raster Function: '{\"rasterFunction\": \"Local\", \"rasterFunctionArguments\": {\"Rasters\": [{\"rasterFunction\": \"Local\", \"rasterFunctionArguments\": {\"Rasters\": [0, \"C:\\\\Users\\\\atma6951\\\\AppData\\\\Local\\\\Temp\\\\xcbe99442_6bdf_4adc_993b_1bf9e13eb9c6y0.afr\"], \"Operation\": 29, \"ExtentType\": 0, \"CellsizeType\": 0}, \"variableName\": \"Rasters\"}, \"C:\\\\Users\\\\atma6951\\\\AppData\\\\Local\\\\Temp\\\\xcbe99442_6bdf_4adc_993b_1bf9e13eb9c6y0.afr\", 0], \"Operation\": 76, \"ExtentType\": 0, \"CellsizeType\": 0}, \"variableName\": \"Rasters\"}' (Unspecified error )\n",
      "-7.956242916407064e-05 0.0158010832965374\n"
     ]
    }
   ],
   "source": [
    "r1_con = raster.functions.con([(r1>=0), r1, 0])\n",
    "print(r1_con.minimum, r1_con.maximum) # throws error or returns wrong answer "
   ]
  },
  {
   "cell_type": "code",
   "execution_count": 13,
   "metadata": {},
   "outputs": [
    {
     "name": "stdout",
     "output_type": "stream",
     "text": [
      "9.787409077643972e-11 0.0004633407515939325\n"
     ]
    }
   ],
   "source": [
    "arcpy_r1_con = arcpy.ia.Con(arcpy_r1_pos_mask, arcpy_r1)\n",
    "print(arcpy_r1_con.minimum, arcpy_r1_con.maximum) # returns only positive result which is correct"
   ]
  }
 ],
 "metadata": {
  "kernelspec": {
   "display_name": "Python 3",
   "language": "python",
   "name": "python3"
  },
  "language_info": {
   "codemirror_mode": {
    "name": "ipython",
    "version": 3
   },
   "file_extension": ".py",
   "mimetype": "text/x-python",
   "name": "python",
   "nbconvert_exporter": "python",
   "pygments_lexer": "ipython3",
   "version": "3.6.10"
  }
 },
 "nbformat": 4,
 "nbformat_minor": 4
}
